{
 "cells": [
  {
   "cell_type": "markdown",
   "id": "b08c44ff",
   "metadata": {},
   "source": [
    "# Problem Sets - 2\n"
   ]
  },
  {
   "cell_type": "markdown",
   "id": "b71efdfa",
   "metadata": {},
   "source": [
    "# Question No 1\n"
   ]
  },
  {
   "cell_type": "markdown",
   "id": "e8f419cb",
   "metadata": {},
   "source": [
    "Consider the following Python module: a = 0 def b(): global a a = c(a) def c(a): return a + 2 After importing the module into the interpreter, you execute: b() b() b() a?\n",
    "\n",
    "What value is displayed when the last expression (a) is evaluated? Explain youranswer by indicating what happens in every executed statement"
   ]
  },
  {
   "cell_type": "code",
   "execution_count": 1,
   "id": "d4aaf07c",
   "metadata": {},
   "outputs": [],
   "source": [
    "a = 0\n",
    "def b():\n",
    "    global a\n",
    "    a = c(a)\n",
    "    print(a)\n",
    "def c(a):\n",
    "    return a+2"
   ]
  },
  {
   "cell_type": "code",
   "execution_count": 2,
   "id": "d7774c18",
   "metadata": {},
   "outputs": [
    {
     "name": "stdout",
     "output_type": "stream",
     "text": [
      "2\n",
      "4\n",
      "6\n"
     ]
    }
   ],
   "source": [
    "b()\n",
    "b()\n",
    "b()"
   ]
  },
  {
   "cell_type": "code",
   "execution_count": 3,
   "id": "ed6ca88d",
   "metadata": {},
   "outputs": [
    {
     "data": {
      "text/plain": [
       "6"
      ]
     },
     "execution_count": 3,
     "metadata": {},
     "output_type": "execute_result"
    }
   ],
   "source": [
    "a"
   ]
  },
  {
   "cell_type": "markdown",
   "id": "bb6b95e1",
   "metadata": {},
   "source": [
    "##### Explanation:  Initially the value of a =0, after 1st b() was executed c(a) returned value a+2 which was 0+2 so first output was 2. Now, the value of a = 2, after 2nd b() was executed c(a) returned value a+2 which was 2+2 and the output was 4. Similarly, it continues the process and the 3rd b() gives the output of 6. Hence, in every execution variable 'a' is being changed and when we execute 'a' at end, it returns value 6."
   ]
  },
  {
   "cell_type": "markdown",
   "id": "8b5ce869",
   "metadata": {},
   "source": [
    "# Question No 2"
   ]
  },
  {
   "cell_type": "markdown",
   "id": "a618e30d",
   "metadata": {},
   "source": [
    "Function fileLength(), given to you, takes the name of a file as input and returnsthe length of the file:\n",
    "\n",
    "fileLength('midterm.py') 284 fileLength('idterm.py') Traceback (most recent call last): File \"<pyshell#34>\", line 1, in fileLength('idterm.py') File \"/Users/me/midterm.py\", line 3, in fileLength infile = open(filename) FileNotFoundError: [Errno 2] No such file or directory: 'idterm.py'\n",
    "\n",
    "As shown above, if the file cannot be found by the interpreter or if it cannot be readas a text file, an exception will be raised. Modify function fileLength() so that afriendly message is printed instead: fileLength('midterm.py') 358 fileLength('idterm.py') File idterm.py not found."
   ]
  },
  {
   "cell_type": "code",
   "execution_count": 28,
   "id": "0145ffb7",
   "metadata": {},
   "outputs": [],
   "source": [
    "def fileLength(fileName):\n",
    "\n",
    "    try:\n",
    "        file = open(fileName)\n",
    "    except FileNotFoundError as e:\n",
    "        print(\"The file {0} not found\".format(fileName))\n",
    "        return\n",
    "    intepret_file = file.read()\n",
    "    print(len(intepret_file))\n",
    "\n"
   ]
  },
  {
   "cell_type": "code",
   "execution_count": 29,
   "id": "98e5672f",
   "metadata": {},
   "outputs": [
    {
     "name": "stdout",
     "output_type": "stream",
     "text": [
      "123\n"
     ]
    }
   ],
   "source": [
    "fileLength(\"Filelength.txt\")"
   ]
  },
  {
   "cell_type": "code",
   "execution_count": 30,
   "id": "22e9cf33",
   "metadata": {},
   "outputs": [
    {
     "name": "stdout",
     "output_type": "stream",
     "text": [
      "The file Filelength.py not found\n"
     ]
    }
   ],
   "source": [
    "fileLength(\"Filelength.py\")"
   ]
  },
  {
   "cell_type": "markdown",
   "id": "83e85aac",
   "metadata": {},
   "source": [
    "# Question No 3"
   ]
  },
  {
   "cell_type": "markdown",
   "id": "23cfa30f",
   "metadata": {},
   "source": [
    "Write a class named Marsupial that can be used as shown below: m = Marsupial() m.put_in_pouch('doll') m.put_in_pouch('firetruck') m.put_in_pouch('kitten') m.pouch_contents() ['doll', 'firetruck', 'kitten']\n",
    "\n",
    "Now write a class named Kangaroo as a subclass of Marsupial that inherits all the attributes of Marsupial and also: a. extends the Marsupial init constructor to take, as input, the coordinates x and y of the Kangaroo object, b. supports method jump that takes number values dx and dy as input and moves the kangaroo by dx units along the x-axis and by dy units along the y-axis, and c. overloads the str operator so it behaves as shown below.\n",
    "\n",
    "k = Kangaroo(0,0) print(k) I am a Kangaroo located at coordinates (0,0) k.put_in_pouch('doll') k.put_in_pouch('firetruck') k.put_in_pouch('kitten') k.pouch_contents() ['doll', 'firetruck', 'kitten'] k.jump(1,0) k.jump(1,0) k.jump(1,0) print(k) I am a Kangaroo located at coordinates (3,0)"
   ]
  },
  {
   "cell_type": "code",
   "execution_count": 66,
   "id": "6c6cb2e2",
   "metadata": {},
   "outputs": [],
   "source": [
    "class Marsupial:\n",
    "    def __init__(self):\n",
    "        self.pouch = [] \n",
    "\n",
    "    def put_in_pouch(self, item):\n",
    "        self.pouch.append(item)\n",
    "\n",
    "    def pouch_contents(self):\n",
    "        return self.pouch\n",
    "\n",
    "class Kangaroo(Marsupial):\n",
    "    def __init__(self, x, y):\n",
    "        super().__init__()\n",
    "        self.x = x\n",
    "        self.y = y\n",
    "\n",
    "    def jump(self, dx, dy):\n",
    "        self.x += dx\n",
    "        self.y += dy\n",
    "\n",
    "    def __str__(self):\n",
    "        return f\"I am a Kangaroo located at coordinates ({self.x},{self.y})\""
   ]
  },
  {
   "cell_type": "code",
   "execution_count": 67,
   "id": "fba07d9d",
   "metadata": {},
   "outputs": [
    {
     "name": "stdout",
     "output_type": "stream",
     "text": [
      "I am a Kangaroo located at coordinates (0,0)\n"
     ]
    }
   ],
   "source": [
    "m = Marsupial()\n",
    "m.put_in_pouch(\"doll\")\n",
    "m.put_in_pouch(\"firetruck\")\n",
    "m.put_in_pouch(\"kitten\")\n",
    "m.pouch_contents()\n",
    "k= Kangaroo(0,0)\n",
    "print(k)"
   ]
  },
  {
   "cell_type": "code",
   "execution_count": 68,
   "id": "b58a3155",
   "metadata": {},
   "outputs": [
    {
     "data": {
      "text/plain": [
       "['doll', 'firetruck', 'kitten']"
      ]
     },
     "execution_count": 68,
     "metadata": {},
     "output_type": "execute_result"
    }
   ],
   "source": [
    "k.put_in_pouch(\"doll\")\n",
    "k.put_in_pouch(\"firetruck\")\n",
    "k.put_in_pouch(\"kitten\")\n",
    "k.pouch_contents()"
   ]
  },
  {
   "cell_type": "code",
   "execution_count": 69,
   "id": "0c324cd7",
   "metadata": {},
   "outputs": [
    {
     "name": "stdout",
     "output_type": "stream",
     "text": [
      "I am a Kangaroo located at coordinates (3,0)\n"
     ]
    }
   ],
   "source": [
    "k.jump(1,0)\n",
    "k.jump(1,0)\n",
    "k.jump(1,0)\n",
    "print(k)"
   ]
  },
  {
   "cell_type": "markdown",
   "id": "54d61fa2",
   "metadata": {},
   "source": [
    "# Question No 4"
   ]
  },
  {
   "cell_type": "markdown",
   "id": "e6e29604",
   "metadata": {},
   "source": [
    "Write function collatz() that takes a positive integer x as input and prints theCollatz sequence starting at x. A Collatz sequence is obtained by repeatedly applyingthis rule to the previous number x in the sequence:\n",
    "\n",
    "x = x/2 if x is even 3x+1 if x is odd\n",
    "\n",
    "Your function should stop when the sequence gets to number 1.Your implementation must be recursive, without any loops.\n",
    "\n",
    "collatz(1) 1 collatz(10) 10 5 16 8 4 2 1"
   ]
  },
  {
   "cell_type": "code",
   "execution_count": 19,
   "id": "942688e3",
   "metadata": {},
   "outputs": [],
   "source": [
    "def collatz(x):\n",
    "    print(x, end=' ')\n",
    "    if x == 1:\n",
    "        return\n",
    "    elif x % 2 == 0:\n",
    "        return collatz(x // 2)\n",
    "    else:\n",
    "        return collatz(3 * x + 1)\n",
    "\n"
   ]
  },
  {
   "cell_type": "code",
   "execution_count": 21,
   "id": "8962e14e",
   "metadata": {},
   "outputs": [
    {
     "name": "stdout",
     "output_type": "stream",
     "text": [
      "1 "
     ]
    }
   ],
   "source": [
    "collatz(1)"
   ]
  },
  {
   "cell_type": "code",
   "execution_count": 22,
   "id": "8992fcb7",
   "metadata": {},
   "outputs": [
    {
     "name": "stdout",
     "output_type": "stream",
     "text": [
      "10 5 16 8 4 2 1 "
     ]
    }
   ],
   "source": [
    "collatz(10)"
   ]
  },
  {
   "cell_type": "markdown",
   "id": "cedb418e",
   "metadata": {},
   "source": [
    "# Question No 5"
   ]
  },
  {
   "cell_type": "markdown",
   "id": "54e70ea6",
   "metadata": {},
   "source": [
    "Write a recursive method binary() that takes a non-negativeinteger n and prints the binary representation of integer n.\n",
    "\n",
    "binary(0) 0 binary(1) 1 binary(3) 11 binary(9) 1001"
   ]
  },
  {
   "cell_type": "code",
   "execution_count": 47,
   "id": "94361e9b",
   "metadata": {},
   "outputs": [],
   "source": [
    "def binary(a):\n",
    "    if a == 0:\n",
    "        output = '0'\n",
    "    elif a == 1:\n",
    "        output = '1'\n",
    "    else:\n",
    "        output = binary(a // 2) + str(a % 2)\n",
    "    \n",
    "    print(output)\n",
    "    return(output)\n",
    "   "
   ]
  },
  {
   "cell_type": "code",
   "execution_count": 48,
   "id": "9c288f4d",
   "metadata": {},
   "outputs": [
    {
     "name": "stdout",
     "output_type": "stream",
     "text": [
      "0\n"
     ]
    },
    {
     "data": {
      "text/plain": [
       "'0'"
      ]
     },
     "execution_count": 48,
     "metadata": {},
     "output_type": "execute_result"
    }
   ],
   "source": [
    "binary(0)"
   ]
  },
  {
   "cell_type": "code",
   "execution_count": 49,
   "id": "42dcc8e8",
   "metadata": {},
   "outputs": [
    {
     "name": "stdout",
     "output_type": "stream",
     "text": [
      "1\n"
     ]
    },
    {
     "data": {
      "text/plain": [
       "'1'"
      ]
     },
     "execution_count": 49,
     "metadata": {},
     "output_type": "execute_result"
    }
   ],
   "source": [
    "binary(1)"
   ]
  },
  {
   "cell_type": "code",
   "execution_count": 50,
   "id": "f1e1fc3e",
   "metadata": {},
   "outputs": [
    {
     "name": "stdout",
     "output_type": "stream",
     "text": [
      "1\n",
      "11\n"
     ]
    },
    {
     "data": {
      "text/plain": [
       "'11'"
      ]
     },
     "execution_count": 50,
     "metadata": {},
     "output_type": "execute_result"
    }
   ],
   "source": [
    "binary(3)"
   ]
  },
  {
   "cell_type": "code",
   "execution_count": 51,
   "id": "f03973c7",
   "metadata": {},
   "outputs": [
    {
     "name": "stdout",
     "output_type": "stream",
     "text": [
      "1\n",
      "10\n",
      "100\n",
      "1001\n"
     ]
    },
    {
     "data": {
      "text/plain": [
       "'1001'"
      ]
     },
     "execution_count": 51,
     "metadata": {},
     "output_type": "execute_result"
    }
   ],
   "source": [
    "binary(9)"
   ]
  },
  {
   "cell_type": "markdown",
   "id": "525e2f8b",
   "metadata": {},
   "source": [
    "# Question No 6"
   ]
  },
  {
   "cell_type": "markdown",
   "id": "c1a5eaa6",
   "metadata": {},
   "source": [
    "Implement a class named HeadingParser that can be used to parse an HTMLdocument, and retrieve and print all the headings in the document. You shouldimplement your class as a subclass of HTMLParser, defined in Standard Librarymodule html.parser. When fed a string containing HTML code, your class shouldprint the headings, one per line and in the order in which they appear in thedocument. Each heading should be indented as follows: an h1 heading should have indentation 0, and h2 heading should have indentation 1, etc. Test yourimplementation using w3c.html.\n",
    "\n",
    "infile = open('w3c.html') content = infile.read() infile.close() hp = HeadingParser() hp.feed(content) W3C Mission Principles"
   ]
  },
  {
   "cell_type": "code",
   "execution_count": 61,
   "id": "1906c17f",
   "metadata": {},
   "outputs": [
    {
     "name": "stdout",
     "output_type": "stream",
     "text": [
      "W3C Mission  \n",
      "\t  Principles  \n",
      " \n",
      "\n",
      "\n",
      "  \n",
      "  "
     ]
    }
   ],
   "source": [
    "from html.parser import HTMLParser\n",
    "\n",
    "class HeadingParser(HTMLParser):\n",
    "    obj = False\n",
    "    def __init__(self):\n",
    "        HTMLParser.__init__(self)\n",
    "\n",
    "    def handle_starttag(self,tag,attrs):\n",
    "        if tag == \"h1\":\n",
    "            self.obj = True\n",
    "        elif tag == \"h2\":\n",
    "            self.obj = True\n",
    "    \n",
    "    def handle_data(self,data):\n",
    "        if self.obj:\n",
    "            print(data, end = \"  \")\n",
    "            \n",
    "infile = open('w3c.txt')\n",
    "content = infile.read()\n",
    "infile.close()\n",
    "hp = HeadingParser()\n",
    "hp.feed(content)         "
   ]
  },
  {
   "cell_type": "markdown",
   "id": "ec1de42e",
   "metadata": {},
   "source": [
    "# Question No 7"
   ]
  },
  {
   "cell_type": "markdown",
   "id": "fc738d5b",
   "metadata": {},
   "source": [
    "Implement recursive function webdir() that takes as input: a URL (as a string) andnon-negative integers depth and indent. Your function should visit every webpage reachable from the starting URL web page in depth clicks or less, and printeach web page's URL. As shown below, indentation, specified by indent, shouldbe used to indicate the depth of a URL. webdir('http://reed.cs.depaul.edu/lperkovic/csc242/test1.html', 2, 0)\n",
    "\n",
    "http://reed.cs.depaul.edu/lperkovic/csc242/test1.htmlhttp://reed.cs.depaul.edu/lperkovic/csc242/test2.html http://reed.cs.depaul.edu/lperkovic/csc242/test4.htmlhttp://reed.cs.depaul.edu/lperkovic/csc242/test3.html http://reed.cs.depaul.edu/lperkovic/csc242/test4.html"
   ]
  },
  {
   "cell_type": "code",
   "execution_count": 5,
   "id": "ae30ad6c",
   "metadata": {},
   "outputs": [
    {
     "name": "stdout",
     "output_type": "stream",
     "text": [
      "https://www.tradingview.com/\n",
      "  https://www.tradingview.com/chart/\n",
      "  https://www.tradingview.com/community/\n",
      "    https://www.tradingview.com/markets/\n",
      "    https://www.tradingview.com/news/\n",
      "    https://www.tradingview.com/brokers/\n",
      "    https://www.tradingview.com/support/\n",
      "    https://www.tradingview.com/pricing/?source=header_go_pro_button&feature=start_free_trial\n",
      "    https://www.tradingview.com/ideas/\n",
      "    https://www.tradingview.com/community/?solution=43000603748\n",
      "    https://www.tradingview.com/chart/QQQ/s4g40feO-The-TradingView-Digest-March-5th/\n",
      "    https://www.tradingview.com/ideas/editors-picks/\n",
      "    https://www.tradingview.com/symbols/NASDAQ-QQQ/\n",
      "    https://www.tradingview.com/u/TradingView/\n",
      "    https://www.tradingview.com/chart/QQQ/s4g40feO-The-TradingView-Digest-March-5th/#chart-view-comment-form\n",
      "    https://www.tradingview.com/chart/XAUUSD/l6fK3qpb-Gold-New-ATH-this-month-Analysis-and-Speculations/\n",
      "    https://www.tradingview.com/symbols/XAUUSD/\n",
      "    https://www.tradingview.com/u/Mihai_Iacob/\n",
      "    https://www.tradingview.com/chart/XAUUSD/l6fK3qpb-Gold-New-ATH-this-month-Analysis-and-Speculations/#chart-view-comment-form\n",
      "    https://www.tradingview.com/chart/NVDA/8g8HiNgL-If-Seize-the-Day-was-a-Company-Nvidia-s-Formidable-Rise/\n",
      "    https://www.tradingview.com/symbols/NASDAQ-NVDA/\n",
      "    https://www.tradingview.com/chart/NVDA/8g8HiNgL-If-Seize-the-Day-was-a-Company-Nvidia-s-Formidable-Rise/#chart-view-comment-form\n",
      "    https://www.tradingview.com/chart/CAKEUSDT/wkJmtDg2-SasanSeifi-Potential-for-Significant-Growth-in-the-Long-Term/\n",
      "    https://www.tradingview.com/symbols/CAKEUSDT/\n",
      "    https://www.tradingview.com/u/SasanSeifi/\n",
      "    https://www.tradingview.com/chart/CAKEUSDT/wkJmtDg2-SasanSeifi-Potential-for-Significant-Growth-in-the-Long-Term/#chart-view-comment-form\n",
      "    https://www.tradingview.com/chart/XAUUSD/H1c2MERW-XAUUSD-29-2-Today-s-Analysis-and-Strategy/\n",
      "    https://www.tradingview.com/u/ActuaryJ/\n",
      "    https://www.tradingview.com/chart/XAUUSD/H1c2MERW-XAUUSD-29-2-Today-s-Analysis-and-Strategy/#chart-view-comment-form\n",
      "    https://www.tradingview.com/chart/BTCUSDT/Iz7fpQNA-Calling-Out-All-Traders-Paper-Trading-Competition-Drops-Soon/\n",
      "    https://www.tradingview.com/symbols/BTCUSDT/\n",
      "    https://www.tradingview.com/chart/BTCUSDT/Iz7fpQNA-Calling-Out-All-Traders-Paper-Trading-Competition-Drops-Soon/#chart-view-comment-form\n",
      "    https://www.tradingview.com/chart/EURUSD/6kAxqIBM-EUR-USD-continues-its-uptrend-at-1-0800/\n",
      "    https://www.tradingview.com/symbols/EURUSD/\n",
      "    https://www.tradingview.com/u/RalphBenjaminTrading/\n",
      "    https://www.tradingview.com/chart/EURUSD/6kAxqIBM-EUR-USD-continues-its-uptrend-at-1-0800/#chart-view-comment-form\n",
      "    https://www.tradingview.com/chart/BTCUSDT/Q97xJ0rX-The-TradingView-Digest-February-27th/\n",
      "    https://www.tradingview.com/chart/BTCUSDT/Q97xJ0rX-The-TradingView-Digest-February-27th/#chart-view-comment-form\n",
      "    https://www.tradingview.com/chart/MSFT/SzPeu32L-Microsoft-Replicating-1987-SPX-Chart/\n",
      "    https://www.tradingview.com/symbols/NASDAQ-MSFT/\n",
      "    https://www.tradingview.com/u/timwest/\n",
      "    https://www.tradingview.com/chart/MSFT/SzPeu32L-Microsoft-Replicating-1987-SPX-Chart/#chart-view-comment-form\n",
      "    https://www.tradingview.com/chart/RNDRUSDT/r6Wct6qz-The-AI-Crypto-Boom-Is-This-the-Beginning-of-a-New-Era/\n",
      "    https://www.tradingview.com/symbols/RNDRUSDT/\n",
      "    https://www.tradingview.com/u/Yaroslav_Krasko/\n",
      "    https://www.tradingview.com/chart/RNDRUSDT/r6Wct6qz-The-AI-Crypto-Boom-Is-This-the-Beginning-of-a-New-Era/#chart-view-comment-form\n",
      "    https://www.tradingview.com/education/\n",
      "    https://www.tradingview.com/community/?solution=43000609497\n",
      "    https://www.tradingview.com/chart/2YY1!/P5S9XxQj-Why-Central-Banks-Buying-Gold-Institutions-Hedging-the-Yields/\n",
      "    https://www.tradingview.com/symbols/CBOT_MINI-2YY1!/\n",
      "    https://www.tradingview.com/u/konhow/\n",
      "    https://www.tradingview.com/chart/2YY1!/P5S9XxQj-Why-Central-Banks-Buying-Gold-Institutions-Hedging-the-Yields/#chart-view-comment-form\n",
      "    https://www.tradingview.com/chart/KTOS/aWDFCSol-Gaps-and-How-Markets-Move-In-Contraction-and-Expansion/\n",
      "    https://www.tradingview.com/symbols/NASDAQ-KTOS/\n",
      "    https://www.tradingview.com/u/ShaneBlankenship/\n",
      "    https://www.tradingview.com/chart/KTOS/aWDFCSol-Gaps-and-How-Markets-Move-In-Contraction-and-Expansion/#chart-view-comment-form\n",
      "    https://www.tradingview.com/chart/EURUSD/C9H5iTQT-Three-Simple-Intraday-Strategies/\n",
      "    https://www.tradingview.com/broker/FXOpen/\n",
      "    https://www.tradingview.com/chart/EURUSD/C9H5iTQT-Three-Simple-Intraday-Strategies/#chart-view-comment-form\n",
      "    https://www.tradingview.com/chart/BTCUSD/9xFKD6pb-Beware-of-Crypto-scams-Rug-Pulls/\n",
      "    https://www.tradingview.com/symbols/BTCUSD/\n",
      "    https://www.tradingview.com/chart/BTCUSD/9xFKD6pb-Beware-of-Crypto-scams-Rug-Pulls/#chart-view-comment-form\n",
      "    https://www.tradingview.com/chart/SPY/eIZ95YrS-Our-Strategy-For-The-Leap/\n",
      "    https://www.tradingview.com/symbols/AMEX-SPY/\n",
      "    https://www.tradingview.com/u/PropNotes/\n",
      "    https://www.tradingview.com/chart/SPY/eIZ95YrS-Our-Strategy-For-The-Leap/#chart-view-comment-form\n",
      "    https://www.tradingview.com/chart/BTCUSD/P70OVtC9-What-Is-Bitcoin-Halving-Here-s-All-You-Need-to-Know/\n",
      "    https://www.tradingview.com/chart/BTCUSD/P70OVtC9-What-Is-Bitcoin-Halving-Here-s-All-You-Need-to-Know/#chart-view-comment-form\n",
      "    https://www.tradingview.com/chart/YM1!/fY1Bi4RZ-Understanding-Momentum-to-filter-out-the-Best-Setups/\n",
      "    https://www.tradingview.com/symbols/CBOT_MINI-YM1!/\n",
      "    https://www.tradingview.com/u/TradeTheStructure/\n",
      "    https://www.tradingview.com/chart/YM1!/fY1Bi4RZ-Understanding-Momentum-to-filter-out-the-Best-Setups/#chart-view-comment-form\n",
      "    https://www.tradingview.com/chart/EURUSD/rRwQOZS4-Mastering-the-70-30-RSI-Trading-Strategy-Plus-Divergences/\n",
      "    https://www.tradingview.com/u/FOREXN1/\n",
      "    https://www.tradingview.com/chart/EURUSD/rRwQOZS4-Mastering-the-70-30-RSI-Trading-Strategy-Plus-Divergences/#chart-view-comment-form\n",
      "    https://www.tradingview.com/chart/BTCUSDT.P/GnGhlbyd-How-To-Use-the-TradingView-Paper-Trading-feature/\n",
      "    https://www.tradingview.com/symbols/BTCUSDT.P/\n",
      "    https://www.tradingview.com/chart/BTCUSDT.P/GnGhlbyd-How-To-Use-the-TradingView-Paper-Trading-feature/#chart-view-comment-form\n",
      "    https://www.tradingview.com/chart/DE30EUR/F3h7GysX-Timely-Opening-Range-Breakout-Strategy-TORB/\n",
      "    https://www.tradingview.com/symbols/OANDA-DE30EUR/\n",
      "    https://www.tradingview.com/u/Zeiierman/\n",
      "    https://www.tradingview.com/chart/DE30EUR/F3h7GysX-Timely-Opening-Range-Breakout-Strategy-TORB/#chart-view-comment-form\n",
      "    https://www.tradingview.com/ideas/?video=yes\n",
      "    https://www.tradingview.com/community/?solution=43000476752\n",
      "    https://www.tradingview.com/chart/US30/epcwenQ4-US30-Thoughts-and-Analysis-Post-CPI/\n",
      "    https://www.tradingview.com/symbols/EIGHTCAP-US30/\n",
      "    https://www.tradingview.com/broker/Eightcap/\n",
      "    https://www.tradingview.com/chart/US30/epcwenQ4-US30-Thoughts-and-Analysis-Post-CPI/#chart-view-comment-form\n",
      "    https://www.tradingview.com/chart/TSLA/l9htlZmg-TSLA-Daily-Outlook/\n",
      "    https://www.tradingview.com/symbols/NASDAQ-TSLA/\n",
      "    https://www.tradingview.com/u/FiboSwanny/\n",
      "    https://www.tradingview.com/chart/TSLA/l9htlZmg-TSLA-Daily-Outlook/#chart-view-comment-form\n",
      "    https://www.tradingview.com/chart/XAUUSD/SaFYS3sq-Understanding-LIQUIDITY/\n",
      "    https://www.tradingview.com/u/Road_2_Funded/\n",
      "    https://www.tradingview.com/chart/XAUUSD/SaFYS3sq-Understanding-LIQUIDITY/#chart-view-comment-form\n",
      "    https://www.tradingview.com/chart/NVDA/R34Ebv6L-Trading-Options-Setups-and-Rules/\n",
      "    https://www.tradingview.com/u/Steversteves/\n",
      "    https://www.tradingview.com/chart/NVDA/R34Ebv6L-Trading-Options-Setups-and-Rules/#chart-view-comment-form\n",
      "    https://www.tradingview.com/ideas/editors-picks/?video=yes\n",
      "    https://www.tradingview.com/scripts/\n",
      "    https://www.tradingview.com/community/?solution=43000558522\n",
      "    https://www.tradingview.com/script/aaPsyqft-Gann-Box-Zeiierman/\n",
      "    https://www.tradingview.com/script/aaPsyqft-Gann-Box-Zeiierman/#chart-view-comment-form\n",
      "    https://www.tradingview.com/script/SCK9eVEQ-Daily-Chess-Puzzles-LuxAlgo/\n",
      "    https://www.tradingview.com/u/LuxAlgo/\n",
      "    https://www.tradingview.com/script/SCK9eVEQ-Daily-Chess-Puzzles-LuxAlgo/#chart-view-comment-form\n",
      "    https://www.tradingview.com/script/ypZ7TSjN-Ichimoku-Oscillator/\n",
      "    https://www.tradingview.com/u/LonesomeTheBlue/\n",
      "    https://www.tradingview.com/script/ypZ7TSjN-Ichimoku-Oscillator/#chart-view-comment-form\n",
      "    https://www.tradingview.com/script/ZMxB93wD-Volume-Footprint-Voids-StratifyTrade/\n",
      "    https://www.tradingview.com/u/StratifyTrade/\n",
      "    https://www.tradingview.com/script/ZMxB93wD-Volume-Footprint-Voids-StratifyTrade/#chart-view-comment-form\n",
      "    https://www.tradingview.com/script/WZ8B1FIW-Auto-Chart-Patterns-Trendoscope/\n",
      "    https://www.tradingview.com/u/Trendoscope/\n",
      "    https://www.tradingview.com/script/WZ8B1FIW-Auto-Chart-Patterns-Trendoscope/#chart-view-comment-form\n",
      "    https://www.tradingview.com/script/tt7060BW-Modern-Portfolio-Theory/\n",
      "    https://www.tradingview.com/u/VanHe1sing/\n",
      "    https://www.tradingview.com/script/tt7060BW-Modern-Portfolio-Theory/#chart-view-comment-form\n",
      "    https://www.tradingview.com/script/QREVZoDw-MAD-Acceleration-based-dampened-SMA-projections/\n",
      "    https://www.tradingview.com/u/djmad/\n",
      "    https://www.tradingview.com/script/QREVZoDw-MAD-Acceleration-based-dampened-SMA-projections/#chart-view-comment-form\n",
      "    https://www.tradingview.com/script/JjgkjuMY-Live-Economic-Calendar-by-toodegrees/\n",
      "    https://www.tradingview.com/u/toodegrees/\n",
      "    https://www.tradingview.com/script/JjgkjuMY-Live-Economic-Calendar-by-toodegrees/#chart-view-comment-form\n",
      "    https://www.tradingview.com/script/OuVJr45r-chartpatterns/\n",
      "    https://www.tradingview.com/script/OuVJr45r-chartpatterns/#chart-view-comment-form\n",
      "    https://www.tradingview.com/script/ZMdZlGaJ-Volume-Speed-By-MUQWISHI/\n",
      "    https://www.tradingview.com/u/MUQWISHI/\n",
      "    https://www.tradingview.com/script/ZMdZlGaJ-Volume-Speed-By-MUQWISHI/#chart-view-comment-form\n",
      "    https://www.tradingview.com/scripts/editors-picks/?script_type=all\n",
      "    https://www.tradingview.com/streams/\n",
      "    https://www.tradingview.com/community/?solution=43000685377\n",
      "    https://www.tradingview.com/streams/k0cO-rfnL1/\n",
      "    https://www.tradingview.com/u/Tradovate/\n",
      "    https://www.tradingview.com/streams/CmUsshTfn0/\n",
      "    https://www.tradingview.com/u/Pepperstone/\n",
      "    https://www.tradingview.com/streams/SmJ0BrQRNX/\n",
      "    https://www.tradingview.com/u/JinDao_Tai/\n",
      "    https://www.tradingview.com/streams/trkJUxmF8J/\n",
      "    https://www.tradingview.com/u/easyMarkets/\n",
      "    https://www.tradingview.com/streams/y_l2chl03Q/\n",
      "    https://www.tradingview.com/u/WillSebastian/\n",
      "    https://www.tradingview.com/streams/ajOkI-_jMa/\n",
      "    https://www.tradingview.com/streams/5GfXwE7hl8/\n",
      "    https://www.tradingview.com/u/FXCM/\n",
      "    https://www.tradingview.com/streams/TFde3ybzf2/\n",
      "    https://www.tradingview.com/u/TraderX_Official/\n",
      "    https://www.tradingview.com/streams/bt0CZjFAep/\n",
      "    https://www.tradingview.com/streams/SFpTU8fNkx/\n",
      "    https://www.tradingview.com/blog/en/we-are-officially-number-one-in-the-world-25885/\n",
      "    https://www.tradingview.com/wall-of-love/\n",
      "    https://www.tradingview.com/about/\n",
      "    https://twitter.com/tradingview/\n",
      "    https://www.facebook.com/tradingview/\n",
      "    https://www.youtube.com/@TradingView\n",
      "    https://www.instagram.com/tradingview/\n",
      "    https://t.me/tradingview/\n",
      "    https://www.tiktok.com/@tradingview/\n",
      "    https://www.reddit.com/r/TradingView/\n",
      "    https://discord.com/invite/tradingview-641192799211094016\n",
      "    https://www.linkedin.com/company/tradingview/\n",
      "    https://www.tradingview.com/pine-script-docs/en/v5/Introduction.html\n",
      "    https://www.tradingview.com/stock-screener/\n",
      "    https://www.tradingview.com/forex-screener/\n",
      "    https://www.tradingview.com/crypto-screener/\n",
      "    https://www.tradingview.com/crypto-coins-screener/\n",
      "    https://www.tradingview.com/heatmap/stock/\n",
      "    https://www.tradingview.com/heatmap/crypto/\n",
      "    https://www.tradingview.com/heatmap/etf/\n",
      "    https://www.tradingview.com/economic-calendar/\n",
      "    https://www.tradingview.com/markets/stocks-usa/earnings/\n",
      "    https://www.tradingview.com/sparks/\n",
      "    https://www.tradingview.com/desktop/\n",
      "    https://www.tradingview.com/mobile/\n",
      "    https://www.tradingview.com/cme/\n",
      "    https://www.tradingview.com/eurex/\n",
      "    https://www.tradingview.com/us-markets-bundle/\n",
      "    https://www.tradingview.com/features/\n",
      "    https://www.tradingview.com/pricing/?source=footer&feature=pricing\n",
      "    https://www.tradingview.com/social-network/\n",
      "    https://www.tradingview.com/athletes/\n",
      "    https://www.tradingview.com/manifesto/\n",
      "    https://www.tradingview.com/careers/\n",
      "    https://www.tradingview.com/blog/en/\n",
      "    https://www.tradingview.com/bounty/\n",
      "    https://status.tradingview.com/\n",
      "    https://www.tradingview.com/policies/\n",
      "    https://www.tradingview.com/disclaimer/\n",
      "    https://www.tradingview.com/privacy-policy/\n",
      "    https://www.tradingview.com/cookies-policy/\n",
      "    https://www.tradingview.com/media-kit/\n",
      "    https://www.tradingview.com/accessibility/\n",
      "    https://www.tradingview.com/share-your-love/?source=footer&feature=refer_friend\n",
      "    https://www.tradingview.com/house-rules/\n",
      "    https://www.tradingview.com/moderators/\n",
      "    https://www.tradingview.com/pine-wizards/\n",
      "    https://www.tradingview.com/chat/\n",
      "    https://www.tradingview.com/widget/\n",
      "    https://www.tradingview.com/advertising-info/\n",
      "    https://www.tradingview.com/HTML5-stock-forex-bitcoin-charting-library/\n",
      "    https://www.tradingview.com/lightweight-charts/\n",
      "    https://www.tradingview.com/advanced-charts/\n",
      "    https://www.tradingview.com/brokerage-integration/\n",
      "    https://www.tradingview.com/partner-program/\n",
      "    https://www.tradingview.com/students/\n",
      "    https://itunes.apple.com/us/app/tradingview-trading-community-charts-and-quotes/id1205990992?pt=118302550&ct=footer\n",
      "    https://play.google.com/store/apps/details?id=com.tradingview.tradingviewapp&referrer=utm_source%3Dtradingview%26utm_medium%3Dgplay_footer\n",
      "    https://www.theice.com/market-data\n",
      "    tel:8332471523\n",
      "  https://www.tradingview.com/chart/?symbol=BITSTAMP%3ABTCUSD\n"
     ]
    },
    {
     "name": "stdout",
     "output_type": "stream",
     "text": [
      "  https://www.tradingview.com/chart/?symbol=NASDAQ%3ATSLA\n",
      "  https://www.tradingview.com/chart/?symbol=NASDAQ%3AAAPL\n",
      "  https://www.tradingview.com/symbols/SPX/?exchange=SP\n",
      "    https://www.tradingview.com/markets/usa/\n",
      "    https://www.tradingview.com/markets/indices/quotes-major/\n",
      "    https://www.tradingview.com/chart/?symbol=SP%3ASPX\n",
      "    https://www.tradingview.com/symbols/SPX/news/?exchange=SP\n",
      "    https://www.tradingview.com/symbols/SPX/ideas/?exchange=SP\n",
      "    https://www.tradingview.com/symbols/SPX/technicals/?exchange=SP\n",
      "    https://www.tradingview.com/symbols/SPX/components/?exchange=SP\n",
      "    https://www.tradingview.com/support/solutions/43000591617\n",
      "    https://www.tradingview.com/support/solutions/43000703651\n",
      "    https://www.tradingview.com/support/solutions/43000703652\n",
      "    https://www.tradingview.com/support/solutions/43000703653\n",
      "    https://www.tradingview.com/chart/SPX500USD/h8a11Yyy-Bullish-But-Wait-Until-Feb-27th-to-go-Big-Long/\n",
      "    https://www.tradingview.com/symbols/SPX500USD/\n",
      "    https://www.tradingview.com/u/JerryManders/\n",
      "    https://www.tradingview.com/chart/SPX500USD/h8a11Yyy-Bullish-But-Wait-Until-Feb-27th-to-go-Big-Long/#chart-view-comment-form\n",
      "    https://www.tradingview.com/chart/US500/IXaxYygr-S-P500-Is-it-timed-for-a-correction-until-the-Fed-Decision/\n",
      "    https://www.tradingview.com/symbols/US500/\n",
      "    https://www.tradingview.com/u/TradingShot/\n",
      "    https://www.tradingview.com/chart/US500/IXaxYygr-S-P500-Is-it-timed-for-a-correction-until-the-Fed-Decision/#chart-view-comment-form\n",
      "    https://www.tradingview.com/chart/SPX/NcP1tmKD-SPX-has-topped/\n",
      "    https://www.tradingview.com/symbols/SPX/\n",
      "    https://www.tradingview.com/u/trollist/\n",
      "    https://www.tradingview.com/chart/SPX/NcP1tmKD-SPX-has-topped/#chart-view-comment-form\n",
      "    https://www.tradingview.com/chart/SPX/fhCy7dEv-S-P500-This-Bull-Cycle-is-far-from-over/\n",
      "    https://www.tradingview.com/chart/SPX/fhCy7dEv-S-P500-This-Bull-Cycle-is-far-from-over/#chart-view-comment-form\n",
      "    https://www.tradingview.com/chart/SPX/bugYqzFi-Big-SPX-Butterfly-Will-Probably-Dictate-Trend-Direction/\n",
      "    https://www.tradingview.com/u/holeyprofit/\n",
      "    https://www.tradingview.com/chart/SPX/bugYqzFi-Big-SPX-Butterfly-Will-Probably-Dictate-Trend-Direction/#chart-view-comment-form\n",
      "    https://www.tradingview.com/chart/SPX/7qtgvOwS-Markets-are-reaching-extreme-greed-territory/\n",
      "    https://www.tradingview.com/u/Tradersweekly/\n",
      "    https://www.tradingview.com/chart/SPX/7qtgvOwS-Markets-are-reaching-extreme-greed-territory/#chart-view-comment-form\n",
      "    https://www.tradingview.com/chart/SPX/mRLa9uTG-Have-we-found-the-top-of-S-P-at-5110/\n",
      "    https://www.tradingview.com/u/JD_TeenTrader/\n",
      "    https://www.tradingview.com/chart/SPX/mRLa9uTG-Have-we-found-the-top-of-S-P-at-5110/#chart-view-comment-form\n",
      "    https://www.tradingview.com/chart/SPX/0Kohp8ld-Like-a-bat-out-of-hell/\n",
      "    https://www.tradingview.com/chart/SPX/0Kohp8ld-Like-a-bat-out-of-hell/#chart-view-comment-form\n",
      "    https://www.tradingview.com/chart/SPX/LKAkR8Zo-Comparing-the-1995-Rally-with-Today/\n",
      "    https://www.tradingview.com/broker/TradeStation/\n",
      "    https://www.tradingview.com/chart/SPX/LKAkR8Zo-Comparing-the-1995-Rally-with-Today/#chart-view-comment-form\n",
      "    https://www.tradingview.com/chart/SPX500/hSc2aCF9-SPX500-Strong-Support-Ahead/\n",
      "    https://www.tradingview.com/symbols/SPX500/\n",
      "    https://www.tradingview.com/u/kacim_elloitt/\n",
      "    https://www.tradingview.com/chart/SPX500/hSc2aCF9-SPX500-Strong-Support-Ahead/#chart-view-comment-form\n",
      "    https://www.tradingview.com/widget-docs/widgets/symbol-details/technical-analysis/?widget_symbol=SP:SPX\n",
      "    https://www.tradingview.com/broker/FOREXcom/\n",
      "    https://www.tradingview.com/symbols/SPX/?solution=43000701943\n",
      "    https://www.tradingview.com/broker/OANDA/\n",
      "    https://www.tradingview.com/broker-awards/\n",
      "  https://www.tradingview.com/symbols/NASDAQ-NDX/\n",
      "    https://www.tradingview.com/chart/?symbol=NASDAQ%3ANDX\n",
      "    https://www.tradingview.com/symbols/NASDAQ-NDX/news/\n",
      "    https://www.tradingview.com/symbols/NASDAQ-NDX/ideas/\n",
      "    https://www.tradingview.com/symbols/NASDAQ-NDX/technicals/\n",
      "    https://www.tradingview.com/symbols/NASDAQ-NDX/components/\n",
      "    https://www.tradingview.com/chart/NDQ100/NO5ayT1A-NASDAQ-SELL-SETUP/\n",
      "    https://www.tradingview.com/symbols/EIGHTCAP-NDQ100/\n",
      "    https://www.tradingview.com/u/Forex_Chairman/\n",
      "    https://www.tradingview.com/chart/NDQ100/NO5ayT1A-NASDAQ-SELL-SETUP/#chart-view-comment-form\n",
      "    https://www.tradingview.com/chart/NDQ100/PpQd3HUx-NASDAQ-SELL-SETUP/\n",
      "    https://www.tradingview.com/chart/NDQ100/PpQd3HUx-NASDAQ-SELL-SETUP/#chart-view-comment-form\n",
      "    https://www.tradingview.com/chart/NAS100USD/BWc7Dycz-NASDAQ-ABOUT-TO-COLLAPSE/\n",
      "    https://www.tradingview.com/symbols/OANDA-NAS100USD/\n",
      "    https://www.tradingview.com/u/Al-humaidy/\n",
      "    https://www.tradingview.com/chart/NAS100USD/BWc7Dycz-NASDAQ-ABOUT-TO-COLLAPSE/#chart-view-comment-form\n",
      "    https://www.tradingview.com/chart/NAS100USD/KzpANvNM-NAS100USD-Potential-New-York-Session-Sell/\n",
      "    https://www.tradingview.com/u/The_Archi-tect/\n",
      "    https://www.tradingview.com/chart/NAS100USD/KzpANvNM-NAS100USD-Potential-New-York-Session-Sell/#chart-view-comment-form\n",
      "    https://www.tradingview.com/chart/US100/OqiNgMFe-NasdaQ-Climax-Long-Outlook/\n",
      "    https://www.tradingview.com/symbols/SKILLING-US100/\n",
      "    https://www.tradingview.com/u/AMIT-RAJAN/\n",
      "    https://www.tradingview.com/chart/US100/OqiNgMFe-NasdaQ-Climax-Long-Outlook/#chart-view-comment-form\n",
      "    https://www.tradingview.com/chart/NAS100USD/KZras7lY-NASDAQ-Elliott-Wave-Analysis-for-Monday-04-03-2024-HTF/\n",
      "    https://www.tradingview.com/u/AndyCuckoo/\n",
      "    https://www.tradingview.com/chart/NAS100USD/KZras7lY-NASDAQ-Elliott-Wave-Analysis-for-Monday-04-03-2024-HTF/#chart-view-comment-form\n",
      "    https://www.tradingview.com/chart/NAS100USD/SexrCBuH-NAS100USD-Potential-New-York-Session-Sellside-Draw-Analysis/\n",
      "    https://www.tradingview.com/chart/NAS100USD/SexrCBuH-NAS100USD-Potential-New-York-Session-Sellside-Draw-Analysis/#chart-view-comment-form\n",
      "    https://www.tradingview.com/chart/US100/pEOWiG99-NASDAQ-Is-this-a-Double-Top-Potential-decline-to-16900/\n",
      "    https://www.tradingview.com/symbols/CAPITALCOM-US100/\n",
      "    https://www.tradingview.com/chart/US100/pEOWiG99-NASDAQ-Is-this-a-Double-Top-Potential-decline-to-16900/#chart-view-comment-form\n",
      "    https://www.tradingview.com/chart/NAS100/sQjL6OIr-NASDAQ-Hits-Record-Highs-A-Short-Term-Correction-on-the-Horizon/\n",
      "    https://www.tradingview.com/symbols/FX-NAS100/\n",
      "    https://www.tradingview.com/chart/NAS100/sQjL6OIr-NASDAQ-Hits-Record-Highs-A-Short-Term-Correction-on-the-Horizon/#chart-view-comment-form\n",
      "    https://www.tradingview.com/chart/NDX/wzt0QVI6-Nasdaq-Pulls-a-Houdini-Fake-out-or-the-next-bull-run/\n",
      "    https://www.tradingview.com/u/TradeXMBL/\n",
      "    https://www.tradingview.com/chart/NDX/wzt0QVI6-Nasdaq-Pulls-a-Houdini-Fake-out-or-the-next-bull-run/#chart-view-comment-form\n",
      "    https://www.tradingview.com/widget-docs/widgets/symbol-details/technical-analysis/?widget_symbol=NASDAQ:NDX\n",
      "  https://www.tradingview.com/symbols/DJ-DJI/\n",
      "    https://www.tradingview.com/chart/?symbol=DJ%3ADJI\n",
      "    https://www.tradingview.com/symbols/DJ-DJI/news/\n",
      "    https://www.tradingview.com/symbols/DJ-DJI/ideas/\n",
      "    https://www.tradingview.com/symbols/DJ-DJI/technicals/\n",
      "    https://www.tradingview.com/symbols/DJ-DJI/components/\n",
      "    https://www.tradingview.com/chart/US30/JhuCUHu3-US30-BEARS-ARE-GAINING-STRENGTH-SHORT/\n",
      "    https://www.tradingview.com/symbols/CURRENCYCOM-US30/\n",
      "    https://www.tradingview.com/u/EliteTradingSignals/\n",
      "    https://www.tradingview.com/chart/US30/JhuCUHu3-US30-BEARS-ARE-GAINING-STRENGTH-SHORT/#chart-view-comment-form\n",
      "    https://www.tradingview.com/chart/US30/0EW7pS81-DOW-JONES-US30-Trend-Following-Setup-Explained/\n",
      "    https://www.tradingview.com/symbols/BLACKBULL-US30/\n",
      "    https://www.tradingview.com/u/VasilyTrader/\n",
      "    https://www.tradingview.com/chart/US30/0EW7pS81-DOW-JONES-US30-Trend-Following-Setup-Explained/#chart-view-comment-form\n",
      "    https://www.tradingview.com/chart/US30USD/RoO8jPkl-US30-STILL-VERY-BULLISH-buys-from-38500-0-back-up/\n",
      "    https://www.tradingview.com/symbols/OANDA-US30USD/\n",
      "    https://www.tradingview.com/u/Hassan_fx/\n",
      "    https://www.tradingview.com/chart/US30USD/RoO8jPkl-US30-STILL-VERY-BULLISH-buys-from-38500-0-back-up/#chart-view-comment-form\n",
      "    https://www.tradingview.com/chart/US30USD/1r3iI4k5-US-30-Long/\n",
      "    https://www.tradingview.com/u/Wolfman_13/\n",
      "    https://www.tradingview.com/chart/US30USD/1r3iI4k5-US-30-Long/#chart-view-comment-form\n",
      "    https://www.tradingview.com/chart/US30/rWWQweCc-Dow-US-30-on-the-verge-of-correction/\n",
      "    https://www.tradingview.com/u/AAC87/\n",
      "    https://www.tradingview.com/chart/US30/rWWQweCc-Dow-US-30-on-the-verge-of-correction/#chart-view-comment-form\n",
      "    https://www.tradingview.com/chart/US30/qehwkIMi-NFP-week-trend-analysis-simple-fib-measurements/\n",
      "    https://www.tradingview.com/u/Dominicanwonder/\n",
      "    https://www.tradingview.com/chart/US30/qehwkIMi-NFP-week-trend-analysis-simple-fib-measurements/#chart-view-comment-form\n",
      "    https://www.tradingview.com/chart/US30/tS6yvcDa-US30-Dow-Jones-may-rise-to-39210-00-39270-00-39350-00/\n",
      "    https://www.tradingview.com/u/Daniel_Thompson/\n",
      "    https://www.tradingview.com/chart/US30/tS6yvcDa-US30-Dow-Jones-may-rise-to-39210-00-39270-00-39350-00/#chart-view-comment-form\n",
      "    https://www.tradingview.com/chart/US30/ZxdqTw4o-US30-2-28-24-V4/\n",
      "    https://www.tradingview.com/symbols/PEPPERSTONE-US30/\n",
      "    https://www.tradingview.com/u/TheGentlemanTrader13/\n",
      "    https://www.tradingview.com/chart/US30/ZxdqTw4o-US30-2-28-24-V4/#chart-view-comment-form\n",
      "    https://www.tradingview.com/chart/US30/QF9IUB0f-US30-1D-Time-frame/\n",
      "    https://www.tradingview.com/u/Duncanmunyai/\n",
      "    https://www.tradingview.com/chart/US30/QF9IUB0f-US30-1D-Time-frame/#chart-view-comment-form\n",
      "    https://www.tradingview.com/chart/US30/EJ36k3ge-US30-Is-Bullish-Long/\n",
      "    https://www.tradingview.com/u/SignalProvider/\n",
      "    https://www.tradingview.com/chart/US30/EJ36k3ge-US30-Is-Bullish-Long/#chart-view-comment-form\n",
      "    https://www.tradingview.com/widget-docs/widgets/symbol-details/technical-analysis/?widget_symbol=DJ:DJI\n",
      "    https://www.tradingview.com/symbols/DJ-DJI/?solution=43000701943\n",
      "  https://www.tradingview.com/symbols/TVC-NI225/\n"
     ]
    },
    {
     "name": "stdout",
     "output_type": "stream",
     "text": [
      "    https://www.tradingview.com/markets/japan/\n",
      "    https://www.tradingview.com/chart/?symbol=TVC%3ANI225\n",
      "    https://www.tradingview.com/symbols/TVC-NI225/news/\n",
      "    https://www.tradingview.com/symbols/TVC-NI225/ideas/\n",
      "    https://www.tradingview.com/symbols/TVC-NI225/technicals/\n",
      "    https://www.tradingview.com/symbols/TVC-NI225/components/\n",
      "    https://www.tradingview.com/chart/JP225/eyVNHPME-Nikkie-on-the-Move-Long-JP255/\n",
      "    https://www.tradingview.com/symbols/ACTIVTRADES-JP225/\n",
      "    https://www.tradingview.com/u/Liquidatedx/\n",
      "    https://www.tradingview.com/chart/JP225/eyVNHPME-Nikkie-on-the-Move-Long-JP255/#chart-view-comment-form\n",
      "    https://www.tradingview.com/chart/JP225YJPY/EOLjlNuv-Nikkei-to-continue-in-the-uptrend/\n",
      "    https://www.tradingview.com/symbols/OANDA-JP225YJPY/\n",
      "    https://www.tradingview.com/chart/JP225YJPY/EOLjlNuv-Nikkei-to-continue-in-the-uptrend/#chart-view-comment-form\n",
      "    https://www.tradingview.com/chart/JPN225/Y0uHsKfQ-JPN225-Long/\n",
      "    https://www.tradingview.com/symbols/EIGHTCAP-JPN225/\n",
      "    https://www.tradingview.com/u/Roffaboy010/\n",
      "    https://www.tradingview.com/chart/JPN225/Y0uHsKfQ-JPN225-Long/#chart-view-comment-form\n",
      "    https://www.tradingview.com/chart/NI225/tx587bUu-Japans-Nikkei-225-Analysis-Will-The-Rally-Last/\n",
      "    https://www.tradingview.com/chart/NI225/tx587bUu-Japans-Nikkei-225-Analysis-Will-The-Rally-Last/#chart-view-comment-form\n",
      "    https://www.tradingview.com/chart/JPN225/5kj1U1vF-JPN225-Long/\n",
      "    https://www.tradingview.com/chart/JPN225/5kj1U1vF-JPN225-Long/#chart-view-comment-form\n",
      "    https://www.tradingview.com/chart/NI225/Ao4qTDrl-JAPAN-TRADE-NIKKEI225-TOPIX-BANK-INDEX/\n",
      "    https://www.tradingview.com/u/moneymagnateash/\n",
      "    https://www.tradingview.com/chart/NI225/Ao4qTDrl-JAPAN-TRADE-NIKKEI225-TOPIX-BANK-INDEX/#chart-view-comment-form\n",
      "    https://www.tradingview.com/chart/NI225/7jpp1KbR-cup-n-handle-possibility/\n",
      "    https://www.tradingview.com/u/dead4586/\n",
      "    https://www.tradingview.com/chart/NI225/7jpp1KbR-cup-n-handle-possibility/#chart-view-comment-form\n",
      "    https://www.tradingview.com/chart/JP225/BgmDpPV2-Why-I-took-buys/\n",
      "    https://www.tradingview.com/u/brittnie44/\n",
      "    https://www.tradingview.com/chart/JP225/BgmDpPV2-Why-I-took-buys/#chart-view-comment-form\n",
      "    https://www.tradingview.com/chart/JP225/dPQfJrkG-Nikkei225-surpasses-Historic-Milestone-on-mixed-inflation-sign/\n",
      "    https://www.tradingview.com/broker/ActivTrades/\n",
      "    https://www.tradingview.com/chart/JP225/dPQfJrkG-Nikkei225-surpasses-Historic-Milestone-on-mixed-inflation-sign/#chart-view-comment-form\n",
      "    https://www.tradingview.com/chart/NI225/xQ2yB5hU-Historical-Analysis-NI225-Feb-24/\n",
      "    https://www.tradingview.com/u/pipsqueak316/\n",
      "    https://www.tradingview.com/chart/NI225/xQ2yB5hU-Historical-Analysis-NI225-Feb-24/#chart-view-comment-form\n",
      "    https://www.tradingview.com/widget-docs/widgets/symbol-details/technical-analysis/?widget_symbol=TVC:NI225\n",
      "    https://www.tradingview.com/symbols/TVC-NI225/?solution=43000701943\n",
      "    https://www.tradingview.com/symbols/FX-JPN225/\n",
      "    https://www.tradingview.com/symbols/INDEX-NKY/\n",
      "    https://www.tradingview.com/symbols/CME-NKD1!/\n",
      "    https://www.tradingview.com/symbols/OANDA-JP225USD/\n",
      "    https://www.tradingview.com/symbols/CME-NKD1!/?contract=NKD2%21\n",
      "  https://www.tradingview.com/symbols/FTSE-UKX/\n",
      "    https://www.tradingview.com/markets/united-kingdom/\n",
      "    https://www.tradingview.com/chart/?symbol=FTSE%3AUKX\n",
      "    https://www.tradingview.com/symbols/FTSE-UKX/news/\n",
      "    https://www.tradingview.com/symbols/FTSE-UKX/ideas/\n",
      "    https://www.tradingview.com/symbols/FTSE-UKX/technicals/\n",
      "    https://www.tradingview.com/symbols/FTSE-UKX/components/\n",
      "    https://www.tradingview.com/chart/UK100/A6dunNUR-FTSE100-And-Price-Action-Probability/\n",
      "    https://www.tradingview.com/symbols/PEPPERSTONE-UK100/\n",
      "    https://www.tradingview.com/chart/UK100/A6dunNUR-FTSE100-And-Price-Action-Probability/#chart-view-comment-form\n",
      "    https://www.tradingview.com/chart/UK100GBP/jrxyETLM-Will-this-UK100-dip-attract-bulls/\n",
      "    https://www.tradingview.com/symbols/OANDA-UK100GBP/\n",
      "    https://www.tradingview.com/chart/UK100GBP/jrxyETLM-Will-this-UK100-dip-attract-bulls/#chart-view-comment-form\n",
      "    https://www.tradingview.com/chart/UK100/TBqkUSW2-FTSE-KOG/\n",
      "    https://www.tradingview.com/symbols/CAPITALCOM-UK100/\n",
      "    https://www.tradingview.com/u/KnightsofGold/\n",
      "    https://www.tradingview.com/chart/UK100/TBqkUSW2-FTSE-KOG/#chart-view-comment-form\n",
      "    https://www.tradingview.com/chart/UK100GBP/u1ipehtL-FTSE-UK100/\n",
      "    https://www.tradingview.com/u/DENCHMON/\n",
      "    https://www.tradingview.com/chart/UK100GBP/u1ipehtL-FTSE-UK100/#chart-view-comment-form\n",
      "    https://www.tradingview.com/chart/UK100/KwujL2ZG-Unlocking-Opportunities-UK100-Supply-and-Demand-Analysis/\n",
      "    https://www.tradingview.com/u/SuccessStrikes/\n",
      "    https://www.tradingview.com/chart/UK100/KwujL2ZG-Unlocking-Opportunities-UK100-Supply-and-Demand-Analysis/#chart-view-comment-form\n",
      "    https://www.tradingview.com/chart/UK100/v95QYXZq-Uk100-short/\n",
      "    https://www.tradingview.com/u/Lanruzee/\n",
      "    https://www.tradingview.com/chart/UK100/v95QYXZq-Uk100-short/#chart-view-comment-form\n",
      "    https://www.tradingview.com/chart/UK100/6gGIJCXL-Short-FTSE-100/\n",
      "    https://www.tradingview.com/symbols/FXOPEN-UK100/\n",
      "    https://www.tradingview.com/u/Josh-M/\n",
      "    https://www.tradingview.com/chart/UK100/6gGIJCXL-Short-FTSE-100/#chart-view-comment-form\n",
      "    https://www.tradingview.com/chart/UK100/QA0TR1Ov-Uk100/\n",
      "    https://www.tradingview.com/u/samadjamro/\n",
      "    https://www.tradingview.com/chart/UK100/QA0TR1Ov-Uk100/#chart-view-comment-form\n",
      "    https://www.tradingview.com/chart/UK100/lt9PyJ2c-Will-we-see-an-ATH/\n",
      "    https://www.tradingview.com/u/PickwickTrading/\n",
      "    https://www.tradingview.com/chart/UK100/lt9PyJ2c-Will-we-see-an-ATH/#chart-view-comment-form\n",
      "    https://www.tradingview.com/chart/UK100/I4jQ3BBT-Weekly-Analysis-of-UK100-Butterfly/\n",
      "    https://www.tradingview.com/u/SEYED98/\n",
      "    https://www.tradingview.com/chart/UK100/I4jQ3BBT-Weekly-Analysis-of-UK100-Butterfly/#chart-view-comment-form\n",
      "    https://www.tradingview.com/widget-docs/widgets/symbol-details/technical-analysis/?widget_symbol=FTSE:UKX\n",
      "  https://www.tradingview.com/symbols/XETR-DAX/\n",
      "    https://www.tradingview.com/markets/germany/\n",
      "    https://www.tradingview.com/chart/?symbol=XETR%3ADAX\n",
      "    https://www.tradingview.com/symbols/XETR-DAX/news/\n",
      "    https://www.tradingview.com/symbols/XETR-DAX/ideas/\n",
      "    https://www.tradingview.com/symbols/XETR-DAX/technicals/\n",
      "    https://www.tradingview.com/symbols/XETR-DAX/components/\n",
      "    https://www.tradingview.com/chart/DAX/FtpOH0ik-DAX-going-to-test-a-monthly-tls-originated-in-March-2000/\n",
      "    https://www.tradingview.com/u/omvats1/\n",
      "    https://www.tradingview.com/chart/DAX/FtpOH0ik-DAX-going-to-test-a-monthly-tls-originated-in-March-2000/#chart-view-comment-form\n",
      "    https://www.tradingview.com/chart/DE30EUR/9XXIUFvD-DAX-to-find-buyers-at-market/\n",
      "    https://www.tradingview.com/chart/DE30EUR/9XXIUFvD-DAX-to-find-buyers-at-market/#chart-view-comment-form\n",
      "    https://www.tradingview.com/chart/DE30EUR/6KNOWwWn-DAX-Elliott-Wave-Analysis-for-Monday-04-03-2024-HTF/\n",
      "    https://www.tradingview.com/chart/DE30EUR/6KNOWwWn-DAX-Elliott-Wave-Analysis-for-Monday-04-03-2024-HTF/#chart-view-comment-form\n",
      "    https://www.tradingview.com/chart/DE40/4RbQ4m3L-DAX-up-until-yield-curve-reverses-upward/\n",
      "    https://www.tradingview.com/symbols/CURRENCYCOM-DE40/\n",
      "    https://www.tradingview.com/u/olivv/\n",
      "    https://www.tradingview.com/chart/DE40/4RbQ4m3L-DAX-up-until-yield-curve-reverses-upward/#chart-view-comment-form\n",
      "    https://www.tradingview.com/chart/DE40/YSCmzcSj-DAX-will-this-be-the-end-of-the-bullish-cycle-wave/\n",
      "    https://www.tradingview.com/symbols/CAPITALCOM-DE40/\n",
      "    https://www.tradingview.com/u/Kyrean/\n",
      "    https://www.tradingview.com/chart/DE40/YSCmzcSj-DAX-will-this-be-the-end-of-the-bullish-cycle-wave/#chart-view-comment-form\n",
      "    https://www.tradingview.com/chart/DAX/XSeHXmLD-DAX-DAX-Index-Waves-of-uncertainty/\n",
      "    https://www.tradingview.com/u/freeguy_by_wmc/\n",
      "    https://www.tradingview.com/chart/DAX/XSeHXmLD-DAX-DAX-Index-Waves-of-uncertainty/#chart-view-comment-form\n",
      "    https://www.tradingview.com/chart/DE40/xc3ZQqQI-DAX-Next-week-could-be-the-top-Downside-more-than-6-possible/\n",
      "    https://www.tradingview.com/u/InvestingScope/\n",
      "    https://www.tradingview.com/chart/DE40/xc3ZQqQI-DAX-Next-week-could-be-the-top-Downside-more-than-6-possible/#chart-view-comment-form\n",
      "    https://www.tradingview.com/chart/DAX/jSrgVDxG-Bull-market-in-German-DAX-20-years-of-advance/\n",
      "    https://www.tradingview.com/u/TheLazyBrother/\n",
      "    https://www.tradingview.com/chart/DAX/jSrgVDxG-Bull-market-in-German-DAX-20-years-of-advance/#chart-view-comment-form\n",
      "    https://www.tradingview.com/chart/DAX/I7cK9djn-DAX-Time-to-respect-the-17-year-Channel-and-correct/\n",
      "    https://www.tradingview.com/chart/DAX/I7cK9djn-DAX-Time-to-respect-the-17-year-Channel-and-correct/#chart-view-comment-form\n",
      "    https://www.tradingview.com/chart/GER40/5VyIgqws-RR-3-7-sell-idea/\n",
      "    https://www.tradingview.com/symbols/PEPPERSTONE-GER40/\n",
      "    https://www.tradingview.com/u/slim7/\n",
      "    https://www.tradingview.com/chart/GER40/5VyIgqws-RR-3-7-sell-idea/#chart-view-comment-form\n",
      "    https://www.tradingview.com/widget-docs/widgets/symbol-details/technical-analysis/?widget_symbol=XETR:DAX\n",
      "    https://www.tradingview.com/symbols/FX-GER30/\n",
      "    https://www.tradingview.com/symbols/FOREXCOM-GER40/\n",
      "  https://www.tradingview.com/widget-docs/widgets/charts/symbol-overview/\n"
     ]
    },
    {
     "name": "stdout",
     "output_type": "stream",
     "text": [
      "    https://www.tradingview.com/widget-docs/getting-started\n",
      "    https://www.tradingview.com/widget-docs/widgets\n",
      "    https://www.tradingview.com/widget-docs/widgets/charts\n",
      "    https://www.tradingview.com/widget-docs/widgets/charts/advanced-chart\n",
      "    https://www.tradingview.com/widget-docs/widgets/charts/advanced-chart/demos\n",
      "    https://www.tradingview.com/widget-docs/widgets/charts/advanced-chart/demos/analytics-platform\n",
      "    https://www.tradingview.com/widget-docs/widgets/charts/advanced-chart/demos/basic-area-chart\n",
      "    https://www.tradingview.com/widget-docs/widgets/charts/advanced-chart/demos/technical-analysis\n",
      "    https://www.tradingview.com/widget-docs/widgets/charts/advanced-chart/demos/watchlist\n",
      "    https://www.tradingview.com/widget-docs/widgets/charts/symbol-overview\n",
      "    https://www.tradingview.com/widget-docs/widgets/charts/mini-chart\n",
      "    https://www.tradingview.com/widget-docs/widgets/watchlists\n",
      "    https://www.tradingview.com/widget-docs/widgets/watchlists/market-overview\n",
      "    https://www.tradingview.com/widget-docs/widgets/watchlists/market-overview/demos/stock\n",
      "    https://www.tradingview.com/widget-docs/widgets/watchlists/market-overview/demos/indices\n",
      "    https://www.tradingview.com/widget-docs/widgets/watchlists/market-overview/demos/forex\n",
      "    https://www.tradingview.com/widget-docs/widgets/watchlists/market-overview/demos/crypto\n",
      "    https://www.tradingview.com/widget-docs/widgets/watchlists/stock-market\n",
      "    https://www.tradingview.com/widget-docs/widgets/watchlists/market-quotes\n",
      "    https://www.tradingview.com/widget-docs/widgets/watchlists/market-quotes/demos/stock\n",
      "    https://www.tradingview.com/widget-docs/widgets/watchlists/market-quotes/demos/indices\n",
      "    https://www.tradingview.com/widget-docs/widgets/watchlists/market-quotes/demos/futures\n",
      "    https://www.tradingview.com/widget-docs/widgets/watchlists/market-quotes/demos/forex\n",
      "    https://www.tradingview.com/widget-docs/widgets/watchlists/market-quotes/demos/crypto\n",
      "    https://www.tradingview.com/widget-docs/widgets/tickers\n",
      "    https://www.tradingview.com/widget-docs/widgets/tickers/ticker-tape\n",
      "    https://www.tradingview.com/widget-docs/widgets/tickers/ticker-tape/demos/compact\n",
      "    https://www.tradingview.com/widget-docs/widgets/tickers/ticker-tape/demos/regular\n",
      "    https://www.tradingview.com/widget-docs/widgets/tickers/ticker\n",
      "    https://www.tradingview.com/widget-docs/widgets/tickers/single-ticker\n",
      "    https://www.tradingview.com/widget-docs/widgets/heatmaps\n",
      "    https://www.tradingview.com/widget-docs/widgets/heatmaps/stock-heatmap\n",
      "    https://www.tradingview.com/widget-docs/widgets/heatmaps/stock-heatmap/demos/relative-volume\n",
      "    https://www.tradingview.com/widget-docs/widgets/heatmaps/stock-heatmap/demos/ytd-performance\n",
      "    https://www.tradingview.com/widget-docs/widgets/heatmaps/crypto-heatmap\n",
      "    https://www.tradingview.com/widget-docs/widgets/heatmaps/forex-cross-rates\n",
      "    https://www.tradingview.com/widget-docs/widgets/heatmaps/forex-heatmap\n",
      "    https://www.tradingview.com/widget-docs/widgets/screeners\n",
      "    https://www.tradingview.com/widget-docs/widgets/screeners/screener\n",
      "    https://www.tradingview.com/widget-docs/widgets/screeners/screener/demos/stock\n",
      "    https://www.tradingview.com/widget-docs/widgets/screeners/screener/demos/forex\n",
      "    https://www.tradingview.com/widget-docs/widgets/screeners/screener/demos/crypto-pairs\n",
      "    https://www.tradingview.com/widget-docs/widgets/screeners/crypto-mkt-screener\n",
      "    https://www.tradingview.com/widget-docs/widgets/symbol-details\n",
      "    https://www.tradingview.com/widget-docs/widgets/symbol-details/symbol-info\n",
      "    https://www.tradingview.com/widget-docs/widgets/symbol-details/technical-analysis\n",
      "    https://www.tradingview.com/widget-docs/widgets/symbol-details/technical-analysis/demos\n",
      "    https://www.tradingview.com/widget-docs/widgets/symbol-details/technical-analysis/demos/multiple\n",
      "    https://www.tradingview.com/widget-docs/widgets/symbol-details/technical-analysis/demos/single\n",
      "    https://www.tradingview.com/widget-docs/widgets/symbol-details/fundamental-data\n",
      "    https://www.tradingview.com/widget-docs/widgets/symbol-details/company-profile\n",
      "    https://www.tradingview.com/widget-docs/widgets/news\n",
      "    https://www.tradingview.com/widget-docs/widgets/news/top-stories\n",
      "    https://www.tradingview.com/widget-docs/widgets/calendars\n",
      "    https://www.tradingview.com/widget-docs/widgets/calendars/economic-calendar\n",
      "    https://www.tradingview.com/widget-docs/solutions\n",
      "    https://www.tradingview.com/widget-docs/tutorials\n",
      "    https://www.tradingview.com/widget-docs/tutorials/build-page\n",
      "    https://www.tradingview.com/widget-docs/tutorials/build-page/getting-started\n",
      "    https://www.tradingview.com/widget-docs/tutorials/build-page/widget-integration\n",
      "    https://www.tradingview.com/widget-docs/tutorials/build-page/dynamic-symbols\n",
      "    https://www.tradingview.com/widget-docs/tutorials/build-page/navigation\n",
      "    https://www.tradingview.com/widget-docs/tutorials/build-page/conclusion\n",
      "    https://www.tradingview.com/widget-docs/markets\n",
      "    https://www.tradingview.com/widget-docs/markets/north-america\n",
      "    https://www.tradingview.com/widget-docs/markets/europe\n",
      "    https://www.tradingview.com/widget-docs/markets/mea\n",
      "    https://www.tradingview.com/widget-docs/markets/mexico-south-america\n",
      "    https://www.tradingview.com/widget-docs/markets/asia-pacific\n",
      "    https://www.tradingview.com/widget-docs/markets/worldwide\n",
      "    https://www.tradingview.com/widget-docs/accessibility\n",
      "    https://www.tradingview.com/widget-docs/faq/general\n",
      "    https://www.tradingview.com/widget-docs/faq/data\n",
      "    https://www.tradingview.com/widget-docs/faq/languages\n",
      "    https://www.tradingview.com/widget-docs/contact\n",
      "    https://www.tradingview.com/widget-docs\n",
      "    https://www.tradingview.com/HTML5-stock-forex-bitcoin-charting-library/?feature=technical-analysis-charts\n",
      "  https://www.tradingview.com/markets/stocks-usa/\n",
      "    https://www.tradingview.com/markets/stocks-usa/market-movers-large-cap/\n",
      "    https://www.tradingview.com/symbols/NASDAQ-AAPL/\n",
      "    https://www.tradingview.com/symbols/NASDAQ-AMZN/\n",
      "    https://www.tradingview.com/symbols/NASDAQ-GOOG/\n",
      "    https://www.tradingview.com/symbols/NASDAQ-META/\n",
      "    https://www.tradingview.com/chart/?symbol=NASDAQ%3AMSFT\n",
      "    https://www.tradingview.com/markets/stocks-usa/ideas/\n",
      "    https://www.tradingview.com/chart/GME/p4ZtaXKY-GME-Probably-tomorrow/\n",
      "    https://www.tradingview.com/symbols/NYSE-GME/\n",
      "    https://www.tradingview.com/u/leenixusu/\n",
      "    https://www.tradingview.com/chart/GME/p4ZtaXKY-GME-Probably-tomorrow/#chart-view-comment-form\n",
      "    https://www.tradingview.com/chart/MARA/Mj811rix-MARA-Second-Chance/\n",
      "    https://www.tradingview.com/symbols/NASDAQ-MARA/\n",
      "    https://www.tradingview.com/u/afurs1/\n",
      "    https://www.tradingview.com/chart/MARA/Mj811rix-MARA-Second-Chance/#chart-view-comment-form\n",
      "    https://www.tradingview.com/chart/PANW/n416Kd97-Swing-It-Into-A-Potential-Crash/\n",
      "    https://www.tradingview.com/symbols/NASDAQ-PANW/\n",
      "    https://www.tradingview.com/chart/PANW/n416Kd97-Swing-It-Into-A-Potential-Crash/#chart-view-comment-form\n",
      "    https://www.tradingview.com/chart/AMC/vFNC6evH-AMC-So-you-re-saying-there-s-a-chance/\n",
      "    https://www.tradingview.com/symbols/NYSE-AMC/\n",
      "    https://www.tradingview.com/u/BTC4Retirement/\n",
      "    https://www.tradingview.com/chart/AMC/vFNC6evH-AMC-So-you-re-saying-there-s-a-chance/#chart-view-comment-form\n",
      "    https://www.tradingview.com/chart/CRWD/3bKM8NgG-CRWD-Realistic-Pullback-Targets/\n",
      "    https://www.tradingview.com/symbols/NASDAQ-CRWD/\n",
      "    https://www.tradingview.com/u/LadyAmalthea12/\n",
      "    https://www.tradingview.com/chart/CRWD/3bKM8NgG-CRWD-Realistic-Pullback-Targets/#chart-view-comment-form\n",
      "    https://www.tradingview.com/chart/TSLA/va2b6g07-The-Terrible-Three/\n",
      "    https://www.tradingview.com/u/markrivest/\n",
      "    https://www.tradingview.com/chart/TSLA/va2b6g07-The-Terrible-Three/#chart-view-comment-form\n",
      "    https://www.tradingview.com/chart/COIN/8sgvS1yG-COIN-to-IPO-prices/\n",
      "    https://www.tradingview.com/symbols/NASDAQ-COIN/\n",
      "    https://www.tradingview.com/u/wantonwallet/\n",
      "    https://www.tradingview.com/chart/COIN/8sgvS1yG-COIN-to-IPO-prices/#chart-view-comment-form\n",
      "    https://www.tradingview.com/chart/AAPL/hUgIBDO4-AAPL-LIVE-BLASTOFF-We-were-prepared-for-this-move/\n",
      "    https://www.tradingview.com/u/FourXTrades/\n",
      "    https://www.tradingview.com/chart/AAPL/hUgIBDO4-AAPL-LIVE-BLASTOFF-We-were-prepared-for-this-move/#chart-view-comment-form\n",
      "    https://www.tradingview.com/chart/TSLA/q4ffE3zR-TSLA-Buy-idea/\n",
      "    https://www.tradingview.com/u/PAZINI19/\n",
      "    https://www.tradingview.com/chart/TSLA/q4ffE3zR-TSLA-Buy-idea/#chart-view-comment-form\n",
      "    https://www.tradingview.com/chart/PFE/hmsmrZs7-PFE-Ready-for-Bottom-Fishing/\n",
      "    https://www.tradingview.com/symbols/NYSE-PFE/\n",
      "    https://www.tradingview.com/u/jaxdog/\n",
      "    https://www.tradingview.com/chart/PFE/hmsmrZs7-PFE-Ready-for-Bottom-Fishing/#chart-view-comment-form\n",
      "    https://www.tradingview.com/symbols/NASDAQ-PHUN/\n",
      "    https://www.tradingview.com/symbols/NASDAQ-MSTR/\n",
      "    https://www.tradingview.com/symbols/NASDAQ-GTLB/\n",
      "    https://www.tradingview.com/symbols/NYSE-NIO/\n",
      "    https://www.tradingview.com/symbols/NASDAQ-SMCI/\n",
      "    https://www.tradingview.com/symbols/NYSE-TGT/\n",
      "    https://www.tradingview.com/markets/stocks-usa/market-movers-active/\n",
      "    https://www.tradingview.com/symbols/NASDAQ-AMD/\n",
      "    https://www.tradingview.com/markets/stocks-usa/market-movers-unusual-volume/\n",
      "    https://www.tradingview.com/symbols/NASDAQ-HSDT/\n",
      "    https://www.tradingview.com/symbols/NASDAQ-VIVK/\n",
      "    https://www.tradingview.com/symbols/NASDAQ-FUFU/\n",
      "    https://www.tradingview.com/symbols/NYSE-PERF/\n",
      "    https://www.tradingview.com/symbols/NASDAQ-YGMZ/\n",
      "    https://www.tradingview.com/symbols/NASDAQ-INDP/\n",
      "    https://www.tradingview.com/markets/stocks-usa/market-movers-gainers/\n",
      "    https://www.tradingview.com/markets/stocks-usa/market-movers-losers/\n",
      "    https://www.tradingview.com/markets/stocks-usa/news/?market=topstories\n",
      "    https://www.tradingview.com/markets/stocks-usa/news/\n",
      "    https://www.tradingview.com/symbols/NYSE-MYE/\n",
      "    https://www.tradingview.com/symbols/NASDAQ-SEAT/\n",
      "    https://www.tradingview.com/symbols/NYSE-FERG/\n",
      "    https://www.tradingview.com/symbols/NYSE-AS/\n",
      "    https://www.tradingview.com/symbols/NYSE-RSKD/\n",
      "    https://www.tradingview.com/symbols/NASDAQ-CECO/\n",
      "    https://www.tradingview.com/symbols/NASDAQ-CIFR/\n",
      "    https://www.tradingview.com/symbols/NASDAQ-AXGN/\n",
      "    https://www.tradingview.com/symbols/NASDAQ-MCRB/\n",
      "    https://www.tradingview.com/markets/stocks-usa/sectorandindustry-sector/\n",
      "    https://www.tradingview.com/markets/stocks-usa/sectorandindustry-sector/technology-services/\n",
      "    https://www.tradingview.com/markets/stocks-usa/sectorandindustry-sector/finance/\n",
      "    https://www.tradingview.com/markets/stocks-usa/sectorandindustry-sector/electronic-technology/\n",
      "    https://www.tradingview.com/markets/stocks-usa/sectorandindustry-sector/health-technology/\n",
      "    https://www.tradingview.com/markets/stocks-usa/sectorandindustry-sector/retail-trade/\n",
      "    https://www.tradingview.com/markets/stocks-usa/sectorandindustry-sector/consumer-non-durables/\n",
      "    https://www.tradingview.com/markets/stocks-usa/sectorandindustry-sector/energy-minerals/\n",
      "    https://www.tradingview.com/markets/stocks-usa/sectorandindustry-sector/producer-manufacturing/\n",
      "    https://www.tradingview.com/markets/stocks-usa/sectorandindustry-sector/consumer-services/\n",
      "    https://www.tradingview.com/markets/stocks-usa/sectorandindustry-sector/commercial-services/\n",
      "    https://www.tradingview.com/broker/IBKR/\n",
      "  https://www.tradingview.com/markets/world-stocks/\n"
     ]
    },
    {
     "name": "stdout",
     "output_type": "stream",
     "text": [
      "    https://www.tradingview.com/markets/world-stocks/worlds-largest-companies/\n",
      "    https://www.tradingview.com/symbols/TADAWUL-2222/\n",
      "    https://www.tradingview.com/symbols/TWSE-2330/\n",
      "    https://www.tradingview.com/symbols/EURONEXT-MC/\n",
      "    https://www.tradingview.com/symbols/HKEX-700/\n",
      "    https://www.tradingview.com/symbols/KRX-005930/\n",
      "    https://www.tradingview.com/markets/world-stocks/ideas/\n",
      "    https://www.tradingview.com/chart/BANDHANBNK/hNfSTWbX-Double-Bottom-at-long-trend-line-support-in-Bandhan-Bank/\n",
      "    https://www.tradingview.com/symbols/NSE-BANDHANBNK/\n",
      "    https://www.tradingview.com/u/sjpmaster/\n",
      "    https://www.tradingview.com/chart/BANDHANBNK/hNfSTWbX-Double-Bottom-at-long-trend-line-support-in-Bandhan-Bank/#chart-view-comment-form\n",
      "    https://www.tradingview.com/markets/world-stocks/worlds-largest-employers/\n",
      "    https://www.tradingview.com/symbols/TWSE-2317/\n",
      "    https://www.tradingview.com/symbols/NYSE-ACN/\n",
      "    https://www.tradingview.com/symbols/XETR-VOW/\n",
      "    https://www.tradingview.com/symbols/NSE-TCS/\n",
      "    https://www.tradingview.com/symbols/XETR-DHL/\n",
      "    https://www.tradingview.com/markets/world-stocks/news/?market=topstories\n",
      "    https://www.tradingview.com/markets/world-stocks/news/\n",
      "    https://www.tradingview.com/markets/world-stocks/earnings/\n",
      "    https://www.tradingview.com/symbols/TSXV-LMN/\n",
      "    https://www.tradingview.com/symbols/TSX-WJX/\n",
      "    https://www.tradingview.com/symbols/SIX-ASCN/\n",
      "    https://www.tradingview.com/symbols/ADX-YAHSAT/\n",
      "    https://www.tradingview.com/symbols/ASX-HRN/\n",
      "    https://www.tradingview.com/symbols/SIX-HUBN/\n",
      "    https://www.tradingview.com/symbols/JSE-SHP/\n",
      "    https://www.tradingview.com/symbols/TSE-7265/\n",
      "    https://www.tradingview.com/symbols/TSE-2910/\n",
      "    https://www.tradingview.com/symbols/SIX-IFCN/\n",
      "  https://www.tradingview.com/markets/etfs/\n",
      "    https://www.tradingview.com/markets/etfs/funds-largest/\n",
      "    https://www.tradingview.com/symbols/NASDAQ-IBIT/\n",
      "    https://www.tradingview.com/symbols/AMEX-VTI/\n",
      "    https://www.tradingview.com/symbols/TSE-1306/\n",
      "    https://www.tradingview.com/symbols/TSE-1305/\n",
      "    https://www.tradingview.com/chart/?symbol=AMEX%3ASPY\n",
      "    https://www.tradingview.com/markets/etfs/ideas/\n",
      "    https://www.tradingview.com/chart/SPY/ZoEFMRQ0-How-To-Get-The-Last-RIP-Out-Of-The-Bowl-if-you-re-in-to-that/\n",
      "    https://www.tradingview.com/chart/SPY/ZoEFMRQ0-How-To-Get-The-Last-RIP-Out-Of-The-Bowl-if-you-re-in-to-that/#chart-view-comment-form\n",
      "    https://www.tradingview.com/chart/GLD/GXFoeZx7-Major-Breakout-in-Gold/\n",
      "    https://www.tradingview.com/symbols/AMEX-GLD/\n",
      "    https://www.tradingview.com/u/PeterLBrandt/\n",
      "    https://www.tradingview.com/chart/GLD/GXFoeZx7-Major-Breakout-in-Gold/#chart-view-comment-form\n",
      "    https://www.tradingview.com/chart/SPY/XjiX95kh-SPY-Long/\n",
      "    https://www.tradingview.com/u/shkspr/\n",
      "    https://www.tradingview.com/chart/SPY/XjiX95kh-SPY-Long/#chart-view-comment-form\n",
      "    https://www.tradingview.com/chart/QQQ/ziWWizPx-QQQ-to-392/\n",
      "    https://www.tradingview.com/u/Trading_with_Greg/\n",
      "    https://www.tradingview.com/chart/QQQ/ziWWizPx-QQQ-to-392/#chart-view-comment-form\n",
      "    https://www.tradingview.com/chart/ARKW/8Npv2VtV-Thanks-to-BTC-a-couple-of-Cathie-Wood-funds-are-about-to-flash/\n",
      "    https://www.tradingview.com/symbols/AMEX-ARKW/\n",
      "    https://www.tradingview.com/u/Pandorra/\n",
      "    https://www.tradingview.com/chart/ARKW/8Npv2VtV-Thanks-to-BTC-a-couple-of-Cathie-Wood-funds-are-about-to-flash/#chart-view-comment-form\n",
      "    https://www.tradingview.com/chart/LTCN/N1E07W6M-LTCN-About-To-Print-Millionaires/\n",
      "    https://www.tradingview.com/symbols/OTC-LTCN/\n",
      "    https://www.tradingview.com/u/Bitgolder/\n",
      "    https://www.tradingview.com/chart/LTCN/N1E07W6M-LTCN-About-To-Print-Millionaires/#chart-view-comment-form\n",
      "    https://www.tradingview.com/chart/SPY/OZtbN6tq-SPY-March-5-2024/\n",
      "    https://www.tradingview.com/u/RiderTrader/\n",
      "    https://www.tradingview.com/chart/SPY/OZtbN6tq-SPY-March-5-2024/#chart-view-comment-form\n",
      "    https://www.tradingview.com/chart/TLT/TsKslbdR-TLT-Piercing-Line-on-the-Quarterly-Chart-Signaling-Lower-Yields/\n",
      "    https://www.tradingview.com/symbols/NASDAQ-TLT/\n",
      "    https://www.tradingview.com/u/RizeSenpai/\n",
      "    https://www.tradingview.com/chart/TLT/TsKslbdR-TLT-Piercing-Line-on-the-Quarterly-Chart-Signaling-Lower-Yields/#chart-view-comment-form\n",
      "    https://www.tradingview.com/chart/KRE/F7f2c6lZ-SPY-IWM-QQQ-analysis-Blowoff-top/\n",
      "    https://www.tradingview.com/symbols/AMEX-KRE/\n",
      "    https://www.tradingview.com/u/Trading-Capital/\n",
      "    https://www.tradingview.com/chart/KRE/F7f2c6lZ-SPY-IWM-QQQ-analysis-Blowoff-top/#chart-view-comment-form\n",
      "    https://www.tradingview.com/symbols/AMEX-GDX/\n",
      "    https://www.tradingview.com/symbols/OTC-BCHG/\n",
      "    https://www.tradingview.com/symbols/AMEX-SOXS/\n",
      "    https://www.tradingview.com/symbols/NASDAQ-SQQQ/\n",
      "    https://www.tradingview.com/symbols/AMEX-SLV/\n",
      "    https://www.tradingview.com/symbols/AMEX-BITO/\n",
      "    https://www.tradingview.com/markets/etfs/funds-most-traded/\n",
      "    https://www.tradingview.com/symbols/AMEX-IWM/\n",
      "    https://www.tradingview.com/symbols/AMEX-SOXL/\n",
      "    https://www.tradingview.com/symbols/NASDAQ-TQQQ/\n",
      "    https://www.tradingview.com/symbols/AMEX-LQD/\n",
      "    https://www.tradingview.com/markets/etfs/funds-highest-aum-growth/\n",
      "    https://www.tradingview.com/symbols/NASDAQ-MDCP/\n",
      "    https://www.tradingview.com/symbols/AMEX-LSGR/\n",
      "    https://www.tradingview.com/symbols/AMEX-SEIV/\n",
      "    https://www.tradingview.com/symbols/AMEX-SEIM/\n",
      "    https://www.tradingview.com/symbols/AMEX-SEIQ/\n",
      "    https://www.tradingview.com/symbols/NASDAQ-CONL/\n",
      "    https://www.tradingview.com/markets/etfs/funds-highest-returns/\n",
      "    https://www.tradingview.com/symbols/NASDAQ-NVDL/\n",
      "    https://www.tradingview.com/symbols/AMEX-FNGU/\n",
      "    https://www.tradingview.com/symbols/AMEX-BULZ/\n",
      "    https://www.tradingview.com/symbols/LSIN-0PTN/\n",
      "    https://www.tradingview.com/markets/etfs/funds-highest-yield/\n",
      "    https://www.tradingview.com/symbols/AMEX-IWMY/\n",
      "    https://www.tradingview.com/symbols/AMEX-CONY/\n",
      "    https://www.tradingview.com/symbols/AMEX-KLIP/\n",
      "    https://www.tradingview.com/symbols/NASDAQ-QQQY/\n",
      "    https://www.tradingview.com/symbols/AMEX-JEPY/\n",
      "    https://www.tradingview.com/symbols/NASDAQ-USOI/\n",
      "    https://www.tradingview.com/markets/etfs/news/\n",
      "    https://www.tradingview.com/markets/etfs/funds-equity/\n",
      "    https://www.tradingview.com/symbols/AMEX-IEFA/\n",
      "    https://www.tradingview.com/symbols/TSE-1321/\n",
      "    https://www.tradingview.com/symbols/AMEX-XLK/\n",
      "    https://www.tradingview.com/symbols/AMEX-RSP/\n",
      "    https://www.tradingview.com/symbols/AMEX-SCHX/\n",
      "    https://www.tradingview.com/markets/etfs/funds-fixed-income/\n",
      "    https://www.tradingview.com/symbols/NASDAQ-BND/\n",
      "    https://www.tradingview.com/symbols/AMEX-AGG/\n",
      "    https://www.tradingview.com/symbols/AMEX-BIL/\n",
      "    https://www.tradingview.com/symbols/AMEX-JPST/\n",
      "    https://www.tradingview.com/symbols/AMEX-SCHO/\n",
      "    https://www.tradingview.com/symbols/AMEX-MINT/\n",
      "    https://www.tradingview.com/markets/etfs/funds-commodities/\n",
      "    https://www.tradingview.com/symbols/AMEX-IAU/\n",
      "    https://www.tradingview.com/symbols/AMEX-GLDM/\n",
      "    https://www.tradingview.com/symbols/NASDAQ-PDBC/\n",
      "    https://www.tradingview.com/symbols/LSE-GLDW/\n",
      "    https://www.tradingview.com/symbols/NASDAQ-FTGC/\n",
      "    https://www.tradingview.com/symbols/AMEX-SGOL/\n",
      "    https://www.tradingview.com/markets/etfs/funds-asset-allocation/\n",
      "    https://www.tradingview.com/symbols/TPEX-00751B/\n",
      "    https://www.tradingview.com/symbols/ASX-AAA/\n",
      "    https://www.tradingview.com/symbols/AMEX-AOR/\n",
      "    https://www.tradingview.com/symbols/XETR-ZPRI/\n",
      "    https://www.tradingview.com/symbols/TSX-VBAL/\n",
      "    https://www.tradingview.com/symbols/NASDAQ-HNDL/\n",
      "  https://www.tradingview.com/markets/cryptocurrencies/\n",
      "    https://www.tradingview.com/markets/cryptocurrencies/prices-all/\n",
      "    https://www.tradingview.com/symbols/BTCUSD/?exchange=CRYPTO\n",
      "    https://www.tradingview.com/symbols/ETHUSD/?exchange=CRYPTO\n",
      "    https://www.tradingview.com/symbols/BNBUSD/?exchange=CRYPTO\n",
      "    https://www.tradingview.com/symbols/XRPUSD/?exchange=CRYPTO\n",
      "    https://www.tradingview.com/symbols/DOGEUSD/?exchange=CRYPTO\n",
      "    https://www.tradingview.com/symbols/MATICUSD/?exchange=CRYPTO\n",
      "    https://www.tradingview.com/chart/?symbol=CRYPTO%3ABTCUSD\n",
      "    https://www.tradingview.com/markets/cryptocurrencies/ideas/\n",
      "    https://www.tradingview.com/chart/BTCUSDT/t47YMaOo-The-TOP-Is-In-March-2024-Bitcoin-Turns-Red-250K-In-2025/\n",
      "    https://www.tradingview.com/u/AlanSantana/\n",
      "    https://www.tradingview.com/chart/BTCUSDT/t47YMaOo-The-TOP-Is-In-March-2024-Bitcoin-Turns-Red-250K-In-2025/#chart-view-comment-form\n",
      "    https://www.tradingview.com/chart/BTCUSD/dg4z55YU-Did-the-BTC-uptrend-fail-in-2022/\n",
      "    https://www.tradingview.com/chart/BTCUSD/dg4z55YU-Did-the-BTC-uptrend-fail-in-2022/#chart-view-comment-form\n",
      "    https://www.tradingview.com/chart/BTCUSD/oSVtHFr1-Bitcoin-Near-All-Time-High-What-Does-History-Tell/\n",
      "    https://www.tradingview.com/u/FieryTrading/\n",
      "    https://www.tradingview.com/chart/BTCUSD/oSVtHFr1-Bitcoin-Near-All-Time-High-What-Does-History-Tell/#chart-view-comment-form\n",
      "    https://www.tradingview.com/chart/BTCUSD/hHytBcKA-BITCOIN-POTENTIAL-4k-Target-On-Potential-Major-BEARISH-FLAT/\n",
      "    https://www.tradingview.com/u/noble1ones/\n",
      "    https://www.tradingview.com/chart/BTCUSD/hHytBcKA-BITCOIN-POTENTIAL-4k-Target-On-Potential-Major-BEARISH-FLAT/#chart-view-comment-form\n",
      "    https://www.tradingview.com/chart/BTCUSDT/39ob5gDI-BITCOIN-is-preparing-for-an-ATH-update-What-happens-next/\n",
      "    https://www.tradingview.com/u/P_S_trade/\n",
      "    https://www.tradingview.com/chart/BTCUSDT/39ob5gDI-BITCOIN-is-preparing-for-an-ATH-update-What-happens-next/#chart-view-comment-form\n",
      "    https://www.tradingview.com/chart/BTCUSD/yirZ2KY5-BITCOIN-Rally-stop-When-do-we-reach-69-000-70-000/\n",
      "    https://www.tradingview.com/u/RLinda/\n",
      "    https://www.tradingview.com/chart/BTCUSD/yirZ2KY5-BITCOIN-Rally-stop-When-do-we-reach-69-000-70-000/#chart-view-comment-form\n",
      "    https://www.tradingview.com/chart/TOTAL3/x2No4cK1-Altcoin-Market-Cup-up-to-3T/\n",
      "    https://www.tradingview.com/symbols/TOTAL3/\n",
      "    https://www.tradingview.com/u/RocketBomb/\n",
      "    https://www.tradingview.com/chart/TOTAL3/x2No4cK1-Altcoin-Market-Cup-up-to-3T/#chart-view-comment-form\n",
      "    https://www.tradingview.com/chart/DOGEUSDT/BslIQYOY-DOGE-can-ascend-further/\n",
      "    https://www.tradingview.com/symbols/DOGEUSDT/\n",
      "    https://www.tradingview.com/u/CobraVanguard/\n",
      "    https://www.tradingview.com/chart/DOGEUSDT/BslIQYOY-DOGE-can-ascend-further/#chart-view-comment-form\n",
      "    https://www.tradingview.com/chart/SHIBUSDT/vEdFzAXU-In-SHIBUSDT-all-signs-are-Ascending/\n",
      "    https://www.tradingview.com/symbols/SHIBUSDT/\n",
      "    https://www.tradingview.com/u/pullbacksignal/\n",
      "    https://www.tradingview.com/chart/SHIBUSDT/vEdFzAXU-In-SHIBUSDT-all-signs-are-Ascending/#chart-view-comment-form\n",
      "    https://www.tradingview.com/chart/BTCUSDT/HGaw2Noj-BTC-whats-coming-next/\n",
      "    https://www.tradingview.com/u/Babenski/\n",
      "    https://www.tradingview.com/chart/BTCUSDT/HGaw2Noj-BTC-whats-coming-next/#chart-view-comment-form\n",
      "    https://www.tradingview.com/symbols/SHIBUSDT/?exchange=BINANCE\n",
      "    https://www.tradingview.com/symbols/SHIBUSD/?exchange=COINBASE\n",
      "    https://www.tradingview.com/symbols/STRKUSDT/?exchange=BINANCE\n",
      "    https://www.tradingview.com/symbols/ICPUSDT/?exchange=BINANCE\n",
      "    https://www.tradingview.com/symbols/THETAUSDT/?exchange=BINANCE\n",
      "    https://www.tradingview.com/symbols/ENSUSDT/?exchange=BINANCE\n",
      "    https://www.tradingview.com/symbols/OPUSDT/?exchange=BINANCE\n",
      "    https://www.tradingview.com/symbols/MANTAUSDT/?exchange=BINANCE\n",
      "    https://www.tradingview.com/symbols/ARBUSDT/?exchange=BINANCE\n",
      "    https://www.tradingview.com/symbols/ETHBTC/?exchange=BINANCE\n",
      "    https://www.tradingview.com/symbols/USDTUSD/?exchange=CRYPTO\n",
      "    https://www.tradingview.com/symbols/SOLUSD/?exchange=CRYPTO\n",
      "    https://www.tradingview.com/markets/cryptocurrencies/prices-highest-total-value-locked/\n",
      "    https://www.tradingview.com/symbols/LDOUSD/?exchange=CRYPTO\n",
      "    https://www.tradingview.com/symbols/AAVEUSD/?exchange=CRYPTO\n",
      "    https://www.tradingview.com/symbols/JSTUSD/?exchange=CRYPTO\n",
      "    https://www.tradingview.com/symbols/MKRUSD/?exchange=CRYPTO\n",
      "    https://www.tradingview.com/symbols/UNIUSD/?exchange=CRYPTO\n",
      "    https://www.tradingview.com/symbols/RPLUSD/?exchange=CRYPTO\n",
      "    https://www.tradingview.com/markets/cryptocurrencies/prices-gainers/\n",
      "    https://www.tradingview.com/symbols/GSTGUSD/?exchange=CRYPTO\n",
      "    https://www.tradingview.com/symbols/LEASHUSD/?exchange=CRYPTO\n",
      "    https://www.tradingview.com/symbols/LUNAUSD/?exchange=CRYPTO\n",
      "    https://www.tradingview.com/symbols/XECUSD/?exchange=CRYPTO\n",
      "    https://www.tradingview.com/symbols/SHIBUSD/?exchange=CRYPTO\n",
      "    https://www.tradingview.com/symbols/NVIRUSD/?exchange=CRYPTO\n",
      "    https://www.tradingview.com/markets/cryptocurrencies/prices-losers/\n",
      "    https://www.tradingview.com/symbols/ORCUSD/?exchange=CRYPTO\n",
      "    https://www.tradingview.com/symbols/HOPRUSD/?exchange=CRYPTO\n",
      "    https://www.tradingview.com/symbols/SOFIUSD/?exchange=CRYPTO\n",
      "    https://www.tradingview.com/symbols/COTUSD/?exchange=CRYPTO\n",
      "    https://www.tradingview.com/symbols/OBSRUSD/?exchange=CRYPTO\n",
      "    https://www.tradingview.com/symbols/BITCOINUSD/?exchange=CRYPTO\n",
      "    https://www.tradingview.com/markets/cryptocurrencies/news/?market=topstories\n",
      "    https://www.tradingview.com/markets/cryptocurrencies/news/\n",
      "  https://www.tradingview.com/markets/currencies/\n"
     ]
    },
    {
     "name": "stdout",
     "output_type": "stream",
     "text": [
      "    https://www.tradingview.com/markets/currencies/rates-all/\n",
      "    https://www.tradingview.com/symbols/EURUSD/?exchange=FX_IDC\n",
      "    https://www.tradingview.com/symbols/JPYUSD/?exchange=FX_IDC\n",
      "    https://www.tradingview.com/symbols/GBPUSD/?exchange=FX_IDC\n",
      "    https://www.tradingview.com/symbols/CHFUSD/?exchange=FX_IDC\n",
      "    https://www.tradingview.com/symbols/AUDUSD/?exchange=FX_IDC\n",
      "    https://www.tradingview.com/symbols/NZDUSD/?exchange=FX_IDC\n",
      "    https://www.tradingview.com/chart/?symbol=FX_IDC%3AEURUSD\n",
      "    https://www.tradingview.com/markets/currencies/ideas/\n",
      "    https://www.tradingview.com/chart/GBPNZD/q7CG7Mv7-GBPNZD-8hour-IHS-buy-hold-tp-500-pips/\n",
      "    https://www.tradingview.com/symbols/GBPNZD/\n",
      "    https://www.tradingview.com/u/ProjectSyndicate/\n",
      "    https://www.tradingview.com/chart/GBPNZD/q7CG7Mv7-GBPNZD-8hour-IHS-buy-hold-tp-500-pips/#chart-view-comment-form\n",
      "    https://www.tradingview.com/chart/NZDJPY/Td7V5iwA-Sell-NZDJPY-Channel-Pattern/\n",
      "    https://www.tradingview.com/symbols/NZDJPY/\n",
      "    https://www.tradingview.com/u/KABHI_FOREX_TRADING/\n",
      "    https://www.tradingview.com/chart/NZDJPY/Td7V5iwA-Sell-NZDJPY-Channel-Pattern/#chart-view-comment-form\n",
      "    https://www.tradingview.com/chart/GBPNZD/TBAZHdjK-GBPNZD-4hrs-intraDay-Buy-Trade-Target-Range-120-360/\n",
      "    https://www.tradingview.com/u/GoldenEngine/\n",
      "    https://www.tradingview.com/chart/GBPNZD/TBAZHdjK-GBPNZD-4hrs-intraDay-Buy-Trade-Target-Range-120-360/#chart-view-comment-form\n",
      "    https://www.tradingview.com/chart/GBPJPY/e5rLF11g-GBPUSD-short/\n",
      "    https://www.tradingview.com/symbols/GBPJPY/\n",
      "    https://www.tradingview.com/u/edwardsdevon0/\n",
      "    https://www.tradingview.com/chart/GBPJPY/e5rLF11g-GBPUSD-short/#chart-view-comment-form\n",
      "    https://www.tradingview.com/chart/EURUSD/DerjkJzj-Lingrid-EURUSD-ranging-MARKET/\n",
      "    https://www.tradingview.com/u/Lingrid/\n",
      "    https://www.tradingview.com/chart/EURUSD/DerjkJzj-Lingrid-EURUSD-ranging-MARKET/#chart-view-comment-form\n",
      "    https://www.tradingview.com/chart/GBPJPY/qZ52Zgxd-GBPJPY-MID-TERM-TRADE-IDEA-1H/\n",
      "    https://www.tradingview.com/u/curtal/\n",
      "    https://www.tradingview.com/chart/GBPJPY/qZ52Zgxd-GBPJPY-MID-TERM-TRADE-IDEA-1H/#chart-view-comment-form\n",
      "    https://www.tradingview.com/chart/EURCHF/VeprzQKU-SELL-EURCHF/\n",
      "    https://www.tradingview.com/symbols/EURCHF/\n",
      "    https://www.tradingview.com/u/IlyzaSL-M/\n",
      "    https://www.tradingview.com/chart/EURCHF/VeprzQKU-SELL-EURCHF/#chart-view-comment-form\n",
      "    https://www.tradingview.com/chart/GBPJPY/FoIdse6l-Trade-Plan-Pending-I-am-selling-GBP-JPY-at-190-84/\n",
      "    https://www.tradingview.com/u/IanColeman/\n",
      "    https://www.tradingview.com/chart/GBPJPY/FoIdse6l-Trade-Plan-Pending-I-am-selling-GBP-JPY-at-190-84/#chart-view-comment-form\n",
      "    https://www.tradingview.com/chart/EURUSD/y5OGRUTT-EURUSD-Consolidation-for-continued-growth-What-s-the-target/\n",
      "    https://www.tradingview.com/chart/EURUSD/y5OGRUTT-EURUSD-Consolidation-for-continued-growth-What-s-the-target/#chart-view-comment-form\n",
      "    https://www.tradingview.com/markets/currencies/rates-major/\n",
      "    https://www.tradingview.com/symbols/USDJPY/?exchange=FX_IDC\n",
      "    https://www.tradingview.com/symbols/USDCAD/?exchange=FX_IDC\n",
      "    https://www.tradingview.com/symbols/USDCHF/?exchange=FX_IDC\n",
      "    https://www.tradingview.com/markets/currencies/indices-all/\n",
      "    https://www.tradingview.com/symbols/TVC-DXY/\n",
      "    https://www.tradingview.com/symbols/TVC-EXY/\n",
      "    https://www.tradingview.com/symbols/TVC-JXY/\n",
      "    https://www.tradingview.com/symbols/TVC-BXY/\n",
      "    https://www.tradingview.com/symbols/TVC-SXY/\n",
      "    https://www.tradingview.com/symbols/TVC-CXY/\n",
      "    https://www.tradingview.com/markets/currencies/cross-rates-overview-prices/\n",
      "    https://www.tradingview.com/markets/currencies/news/?market=topstories\n",
      "    https://www.tradingview.com/markets/currencies/news/\n",
      "    https://www.tradingview.com/widget-docs/widgets/calendars/economic-calendar/\n",
      "    https://www.tradingview.com/markets/currencies/?solution=43000701943\n",
      "  https://www.tradingview.com/markets/futures/\n",
      "    https://www.tradingview.com/markets/futures/quotes-all/\n",
      "    https://www.tradingview.com/symbols/COMEX-GC1!/\n",
      "    https://www.tradingview.com/symbols/COMEX-SI1!/\n",
      "    https://www.tradingview.com/symbols/COMEX-HG1!/\n",
      "    https://www.tradingview.com/symbols/NYMEX-PL1!/\n",
      "    https://www.tradingview.com/symbols/NYMEX-CL1!/\n",
      "    https://www.tradingview.com/symbols/NYMEX-NG1!/\n",
      "    https://www.tradingview.com/chart/?symbol=COMEX%3AGC1!\n",
      "    https://www.tradingview.com/markets/futures/ideas/\n",
      "    https://www.tradingview.com/chart/XAUUSD/cUJzpc8g-GOLD-4H-AND-1H-ROUTE-MAP-TRADING-PLAN-FOR-THE-WEEK-AHEAD/\n",
      "    https://www.tradingview.com/u/Goldviewfx/\n",
      "    https://www.tradingview.com/chart/XAUUSD/cUJzpc8g-GOLD-4H-AND-1H-ROUTE-MAP-TRADING-PLAN-FOR-THE-WEEK-AHEAD/#chart-view-comment-form\n",
      "    https://www.tradingview.com/chart/XAUUSD/XZnYlsIK-XAU-USD-Time-to-Fall-READ-THE-CAPTION/\n",
      "    https://www.tradingview.com/u/ArmanShabanTrading/\n",
      "    https://www.tradingview.com/chart/XAUUSD/XZnYlsIK-XAU-USD-Time-to-Fall-READ-THE-CAPTION/#chart-view-comment-form\n",
      "    https://www.tradingview.com/chart/XAUUSD/qPK8YNXY-Gold-awaits-support-levels-to-open-long-orders/\n",
      "    https://www.tradingview.com/u/winner-2008/\n",
      "    https://www.tradingview.com/chart/XAUUSD/qPK8YNXY-Gold-awaits-support-levels-to-open-long-orders/#chart-view-comment-form\n",
      "    https://www.tradingview.com/chart/XAUUSD/sN9KvTlQ-U-S-bonds-weaken-gold-strengthens/\n",
      "    https://www.tradingview.com/u/Alvin_Kennedy/\n",
      "    https://www.tradingview.com/chart/XAUUSD/sN9KvTlQ-U-S-bonds-weaken-gold-strengthens/#chart-view-comment-form\n",
      "    https://www.tradingview.com/chart/XAUUSD/JeFTbLOj-Lingrid-GOLD-Weekly-Price-Forecast/\n",
      "    https://www.tradingview.com/chart/XAUUSD/JeFTbLOj-Lingrid-GOLD-Weekly-Price-Forecast/#chart-view-comment-form\n",
      "    https://www.tradingview.com/chart/XAUUSD/09e75Ey1-2150-BY-03-08-DRAFT-6-2200-under-24-hours-2100-under-48-HOURS/\n",
      "    https://www.tradingview.com/u/Binary_Forecasting_Service/\n",
      "    https://www.tradingview.com/chart/XAUUSD/09e75Ey1-2150-BY-03-08-DRAFT-6-2200-under-24-hours-2100-under-48-HOURS/#chart-view-comment-form\n",
      "    https://www.tradingview.com/chart/XAUUSD/jv2LNwS9-XAUUSD/\n",
      "    https://www.tradingview.com/u/HAMED_AZ/\n",
      "    https://www.tradingview.com/chart/XAUUSD/jv2LNwS9-XAUUSD/#chart-view-comment-form\n",
      "    https://www.tradingview.com/chart/XAUUSD/PNf943Q1-XAUUSD-ALL-TIME-HIGH-THIS-WEEK/\n",
      "    https://www.tradingview.com/u/tommyXAU/\n",
      "    https://www.tradingview.com/chart/XAUUSD/PNf943Q1-XAUUSD-ALL-TIME-HIGH-THIS-WEEK/#chart-view-comment-form\n",
      "    https://www.tradingview.com/chart/XAUUSD/gBEX9PCk-GOLD-Re-test-2085-The-distribution-is-not-yet-finalized/\n",
      "    https://www.tradingview.com/chart/XAUUSD/gBEX9PCk-GOLD-Re-test-2085-The-distribution-is-not-yet-finalized/#chart-view-comment-form\n",
      "    https://www.tradingview.com/markets/futures/quotes-energy/\n",
      "    https://www.tradingview.com/symbols/ICEEUR-BRN1!/\n",
      "    https://www.tradingview.com/symbols/NYMEX-RB1!/\n",
      "    https://www.tradingview.com/symbols/NYMEX-HO1!/\n",
      "    https://www.tradingview.com/symbols/NYMEX-AEZ1!/\n",
      "    https://www.tradingview.com/markets/futures/quotes-agricultural/\n",
      "    https://www.tradingview.com/symbols/ICEUS-KC1!/\n",
      "    https://www.tradingview.com/symbols/ICEUS-CT1!/\n",
      "    https://www.tradingview.com/symbols/CBOT-ZS1!/\n",
      "    https://www.tradingview.com/symbols/CBOT-ZW1!/\n",
      "    https://www.tradingview.com/symbols/ICEUS-SB1!/\n",
      "    https://www.tradingview.com/symbols/CBOT-ZC1!/\n",
      "    https://www.tradingview.com/markets/futures/quotes-metals/\n",
      "    https://www.tradingview.com/symbols/NYMEX-PA1!/\n",
      "    https://www.tradingview.com/symbols/COMEX-ALI1!/\n",
      "    https://www.tradingview.com/markets/futures/quotes-currencies/\n",
      "    https://www.tradingview.com/symbols/CME-6E1!/\n",
      "    https://www.tradingview.com/symbols/CME-6B1!/\n",
      "    https://www.tradingview.com/symbols/CME-6J1!/\n",
      "    https://www.tradingview.com/symbols/CME-6S1!/\n",
      "    https://www.tradingview.com/symbols/CME-6A1!/\n",
      "    https://www.tradingview.com/symbols/CME-6C1!/\n",
      "    https://www.tradingview.com/markets/futures/news/?market=topstories\n",
      "    https://www.tradingview.com/markets/futures/news/\n",
      "  https://www.tradingview.com/markets/bonds/\n",
      "    https://www.tradingview.com/markets/bonds/prices-major/\n",
      "    https://www.tradingview.com/symbols/TVC-US10Y/\n",
      "    https://www.tradingview.com/symbols/TVC-EU10Y/\n",
      "    https://www.tradingview.com/symbols/TVC-GB10Y/\n",
      "    https://www.tradingview.com/symbols/TVC-DE10Y/\n",
      "    https://www.tradingview.com/symbols/TVC-FR10Y/\n",
      "    https://www.tradingview.com/symbols/TVC-IT10Y/\n",
      "    https://www.tradingview.com/chart/?symbol=TVC%3AUS10Y\n",
      "    https://www.tradingview.com/markets/bonds/ideas/\n",
      "    https://www.tradingview.com/chart/US10Y/NRYeRfSB-US-10Y-TREASURY-it-s-clear-to-the-market/\n",
      "    https://www.tradingview.com/u/XBTFX/\n",
      "    https://www.tradingview.com/chart/US10Y/NRYeRfSB-US-10Y-TREASURY-it-s-clear-to-the-market/#chart-view-comment-form\n",
      "    https://www.tradingview.com/chart/US10Y/4crxld7M-US10Y-Playing-Hot-Potatoes-With-Risk/\n",
      "    https://www.tradingview.com/u/LegendSince/\n",
      "    https://www.tradingview.com/chart/US10Y/4crxld7M-US10Y-Playing-Hot-Potatoes-With-Risk/#chart-view-comment-form\n",
      "    https://www.tradingview.com/chart/US03MY/kDArvfMd-US03M/\n",
      "    https://www.tradingview.com/symbols/TVC-US03MY/\n",
      "    https://www.tradingview.com/u/Manzanex/\n",
      "    https://www.tradingview.com/chart/US03MY/kDArvfMd-US03M/#chart-view-comment-form\n",
      "    https://www.tradingview.com/chart/US10Y/2GrW0VN9-US10Y-rising-wedge-breakdown/\n",
      "    https://www.tradingview.com/u/HowardMarks46/\n",
      "    https://www.tradingview.com/chart/US10Y/2GrW0VN9-US10Y-rising-wedge-breakdown/#chart-view-comment-form\n",
      "    https://www.tradingview.com/chart/BUND/7NZDbfTS-Bund-Projections/\n",
      "    https://www.tradingview.com/symbols/FX-BUND/\n",
      "    https://www.tradingview.com/u/nen/\n",
      "    https://www.tradingview.com/chart/BUND/7NZDbfTS-Bund-Projections/#chart-view-comment-form\n",
      "    https://www.tradingview.com/chart/US10Y/8eY1GA88-US10Y/\n",
      "    https://www.tradingview.com/u/SKYNETAITR2/\n",
      "    https://www.tradingview.com/chart/US10Y/8eY1GA88-US10Y/#chart-view-comment-form\n",
      "    https://www.tradingview.com/chart/ZA10Y/vBcPgNPp-SA10YGOVYIELDS-looking-to-start-a-move-back-to-top-of-range/\n",
      "    https://www.tradingview.com/symbols/TVC-ZA10Y/\n",
      "    https://www.tradingview.com/u/MarcoOlevano/\n",
      "    https://www.tradingview.com/chart/ZA10Y/vBcPgNPp-SA10YGOVYIELDS-looking-to-start-a-move-back-to-top-of-range/#chart-view-comment-form\n",
      "    https://www.tradingview.com/chart/SG10Y/1A9tHkLt-SG10Y-forewarns-of-a-blowout-top-in-the-S-P500/\n",
      "    https://www.tradingview.com/symbols/TVC-SG10Y/\n",
      "    https://www.tradingview.com/u/Auguraltrader/\n",
      "    https://www.tradingview.com/chart/SG10Y/1A9tHkLt-SG10Y-forewarns-of-a-blowout-top-in-the-S-P500/#chart-view-comment-form\n",
      "    https://www.tradingview.com/chart/US02Y/nbRjfjVO-I-am-still-waiting-for-a-credit-crunch-event/\n",
      "    https://www.tradingview.com/symbols/TVC-US02Y/\n",
      "    https://www.tradingview.com/u/elalemiami/\n",
      "    https://www.tradingview.com/chart/US02Y/nbRjfjVO-I-am-still-waiting-for-a-credit-crunch-event/#chart-view-comment-form\n",
      "    https://www.tradingview.com/chart/US02Y/OgVsWSnq-US-2-year-yield-bonds-vs-copper-and-gold-miners/\n",
      "    https://www.tradingview.com/u/JoaoPauloPires/\n",
      "    https://www.tradingview.com/chart/US02Y/OgVsWSnq-US-2-year-yield-bonds-vs-copper-and-gold-miners/#chart-view-comment-form\n",
      "    https://www.tradingview.com/markets/bonds/prices-usa/\n",
      "    https://www.tradingview.com/symbols/TVC-US01MY/\n",
      "    https://www.tradingview.com/symbols/TVC-US06MY/\n",
      "    https://www.tradingview.com/symbols/TVC-US01Y/\n",
      "    https://www.tradingview.com/symbols/TVC-US05Y/\n",
      "    https://www.tradingview.com/symbols/TVC-US30Y/\n",
      "    https://www.tradingview.com/markets/bonds/prices-eu/\n",
      "    https://www.tradingview.com/symbols/TVC-EU01MY/\n",
      "    https://www.tradingview.com/symbols/TVC-EU06MY/\n",
      "    https://www.tradingview.com/symbols/TVC-EU01Y/\n",
      "    https://www.tradingview.com/symbols/TVC-EU05Y/\n",
      "    https://www.tradingview.com/symbols/TVC-EU30Y/\n",
      "    https://www.tradingview.com/markets/bonds/news/\n",
      "    https://www.tradingview.com/markets/bonds/yields-major/\n",
      "  https://www.tradingview.com/?solution=43000603748\n"
     ]
    },
    {
     "name": "stdout",
     "output_type": "stream",
     "text": [
      "    https://www.tradingview.com/?solution=43000558522\n",
      "    https://www.tradingview.com/?solution=43000609497\n",
      "    https://www.tradingview.com/?solution=43000476752\n",
      "    https://www.tradingview.com/?solution=43000701943\n",
      "    https://www.tradingview.com/broker/AMP_Futures/\n"
     ]
    }
   ],
   "source": [
    "import requests\n",
    "from bs4 import BeautifulSoup\n",
    "from urllib.parse import urljoin\n",
    "\n",
    "def webdir(url, depth, indent):\n",
    "    visited = set()  \n",
    "\n",
    "    def _visit(url, current_depth, current_indent):\n",
    "        if url in visited or current_depth > depth:\n",
    "            return\n",
    "        visited.add(url)\n",
    "\n",
    "        print(' ' * current_indent + url)\n",
    "\n",
    "        if current_depth == depth:\n",
    "            return\n",
    "\n",
    "        try:\n",
    "            response = requests.get(url)\n",
    "            response.raise_for_status()  \n",
    "            soup = BeautifulSoup(response.text, 'html.parser')\n",
    "            \n",
    "            for link in soup.find_all('a', href=True):\n",
    "                # Construct the full URL if it's a relative link\n",
    "                next_url = urljoin(url, link['href'])\n",
    "                _visit(next_url, current_depth + 1, current_indent + indent)\n",
    "        except requests.RequestException:\n",
    "            pass  # Ignoring the pages which cannot be fetched\n",
    "\n",
    "    _visit(url, 0, 0)\n",
    "\n",
    "# for instance\n",
    "webdir('https://www.tradingview.com/', 2, 2)"
   ]
  },
  {
   "cell_type": "markdown",
   "id": "7ee58528",
   "metadata": {},
   "source": [
    "# Question No 8"
   ]
  },
  {
   "cell_type": "markdown",
   "id": "6725b9b1",
   "metadata": {},
   "source": [
    "Write SQL queries on the below database table that return: \n"
   ]
  },
  {
   "cell_type": "markdown",
   "id": "26f40870",
   "metadata": {},
   "source": [
    "a. All the temperature data."
   ]
  },
  {
   "cell_type": "code",
   "execution_count": null,
   "id": "5599b7d2",
   "metadata": {},
   "outputs": [],
   "source": [
    "SELECT Temperature FROM Weather;"
   ]
  },
  {
   "cell_type": "markdown",
   "id": "0df3c038",
   "metadata": {},
   "source": [
    "b. All the cities, but without repetition."
   ]
  },
  {
   "cell_type": "code",
   "execution_count": null,
   "id": "2c856271",
   "metadata": {},
   "outputs": [],
   "source": [
    "SELECT DISTINCT City FROM Weather;"
   ]
  },
  {
   "cell_type": "markdown",
   "id": "e00fc40f",
   "metadata": {},
   "source": [
    "c. All the records for India."
   ]
  },
  {
   "cell_type": "code",
   "execution_count": null,
   "id": "85e1c457",
   "metadata": {},
   "outputs": [],
   "source": [
    "SELECT * FROM Weather WHERE Country = 'India';"
   ]
  },
  {
   "cell_type": "markdown",
   "id": "5100d8f5",
   "metadata": {},
   "source": [
    "d. All the Fall records."
   ]
  },
  {
   "cell_type": "code",
   "execution_count": null,
   "id": "d3acba7b",
   "metadata": {},
   "outputs": [],
   "source": [
    "SELECT * FROM Weather WHERE Season = 'Fall';"
   ]
  },
  {
   "cell_type": "markdown",
   "id": "0e795737",
   "metadata": {},
   "source": [
    "e. The city, country, and season for which the average rainfall is between 200 and 400 millimeters."
   ]
  },
  {
   "cell_type": "code",
   "execution_count": null,
   "id": "5fc33cc0",
   "metadata": {},
   "outputs": [],
   "source": [
    "SELECT City, Country, Season FROM Weather WHERE Rainfall BETWEEN 200 AND 400;"
   ]
  },
  {
   "cell_type": "markdown",
   "id": "717933e4",
   "metadata": {},
   "source": [
    "f. The city and country for which the average Fall temperature is above 20 degrees, in increasing temperature order."
   ]
  },
  {
   "cell_type": "code",
   "execution_count": null,
   "id": "c50eb445",
   "metadata": {},
   "outputs": [],
   "source": [
    "SELECT City, Country FROM Weather WHERE Season = 'Fall' AND Temperature > 20 ORDER BY Temperature;"
   ]
  },
  {
   "cell_type": "markdown",
   "id": "05230e01",
   "metadata": {},
   "source": [
    "g. The total annual rainfall for Cairo."
   ]
  },
  {
   "cell_type": "code",
   "execution_count": null,
   "id": "cffb2c7c",
   "metadata": {},
   "outputs": [],
   "source": [
    "SELECT SUM(Rainfall) AS Total_Annual_Rainfall FROM Weather WHERE City = 'Cairo';"
   ]
  },
  {
   "cell_type": "markdown",
   "id": "8e524561",
   "metadata": {},
   "source": [
    "h. The total rainfall for each season."
   ]
  },
  {
   "cell_type": "code",
   "execution_count": null,
   "id": "f93999cf",
   "metadata": {},
   "outputs": [],
   "source": [
    "SELECT Season, SUM(Rainfall) AS Total_Rainfall FROM Weather GROUP BY Season;"
   ]
  },
  {
   "cell_type": "markdown",
   "id": "30769354",
   "metadata": {},
   "source": [
    "# Question No 9"
   ]
  },
  {
   "cell_type": "markdown",
   "id": "6aaa8c56",
   "metadata": {},
   "source": [
    "Suppose list words is defined as follows: words = ['The', 'quick', 'brown', 'fox', 'jumps', 'over','the', 'lazy', 'dog']\n",
    "\n",
    "Write list comprehension expressions that use list words and generate the following lists:\n",
    "\n",
    "a. ['THE', 'QUICK', 'BROWN', 'FOX', 'JUMPS', 'OVER', 'THE','LAZY', 'DOG'] b. ['the', 'quick', 'brown', 'fox', 'jumps', 'over', 'the','lazy', 'dog'] c. [3, 5, 5, 3, 5, 4, 3, 4, 3] (the list of lengths of words in listwords). d. [['THE', 'the', 3], ['QUICK', 'quick', 5], ['BROWN','brown', 5], ['FOX', 'fox', 3], ['JUMPS', 'jumps', 5],['OVER', 'over', 4], ['THE', 'the', 3], ['LAZY', 'lazy',4], ['DOG', 'dog', 3]] (the list containing a list for every word of listwords, where each list contains the word in uppercase and lowercase and thelength of the word.) e. ['The', 'quick', 'brown', 'fox', 'jumps', 'over', 'the','lazy', 'dog'] the list of words in list words containing 4 or morecharacters."
   ]
  },
  {
   "cell_type": "code",
   "execution_count": 12,
   "id": "bdcf8c57",
   "metadata": {},
   "outputs": [],
   "source": [
    "words = ['The', 'quick', 'brown', 'fox', 'jumps', 'over', 'the', 'lazy', 'dog']\n",
    "\n",
    "UPPERCASE = [word.upper() for word in words] \n",
    "\n",
    "lowercase = [word.lower() for word in words]\n",
    "\n",
    "lengths = [len(word) for word in words]\n",
    "\n",
    "jumbled = [[word.upper(), word.lower(), len(word)] for word in words]\n",
    "\n",
    "four_or_more_characters = [word for word in words if len(word) >= 4]\n"
   ]
  },
  {
   "cell_type": "code",
   "execution_count": 13,
   "id": "3b6f81ce",
   "metadata": {},
   "outputs": [
    {
     "data": {
      "text/plain": [
       "['THE', 'QUICK', 'BROWN', 'FOX', 'JUMPS', 'OVER', 'THE', 'LAZY', 'DOG']"
      ]
     },
     "execution_count": 13,
     "metadata": {},
     "output_type": "execute_result"
    }
   ],
   "source": [
    "# \"a\" \n",
    "UPPERCASE\n"
   ]
  },
  {
   "cell_type": "code",
   "execution_count": 15,
   "id": "97189372",
   "metadata": {},
   "outputs": [
    {
     "data": {
      "text/plain": [
       "['the', 'quick', 'brown', 'fox', 'jumps', 'over', 'the', 'lazy', 'dog']"
      ]
     },
     "execution_count": 15,
     "metadata": {},
     "output_type": "execute_result"
    }
   ],
   "source": [
    "# \"b\"\n",
    "lowercase"
   ]
  },
  {
   "cell_type": "code",
   "execution_count": 16,
   "id": "5e654fd7",
   "metadata": {},
   "outputs": [
    {
     "data": {
      "text/plain": [
       "[3, 5, 5, 3, 5, 4, 3, 4, 3]"
      ]
     },
     "execution_count": 16,
     "metadata": {},
     "output_type": "execute_result"
    }
   ],
   "source": [
    "# \"c\"\n",
    "lengths"
   ]
  },
  {
   "cell_type": "code",
   "execution_count": 17,
   "id": "ed9f0fa8",
   "metadata": {},
   "outputs": [
    {
     "data": {
      "text/plain": [
       "[['THE', 'the', 3],\n",
       " ['QUICK', 'quick', 5],\n",
       " ['BROWN', 'brown', 5],\n",
       " ['FOX', 'fox', 3],\n",
       " ['JUMPS', 'jumps', 5],\n",
       " ['OVER', 'over', 4],\n",
       " ['THE', 'the', 3],\n",
       " ['LAZY', 'lazy', 4],\n",
       " ['DOG', 'dog', 3]]"
      ]
     },
     "execution_count": 17,
     "metadata": {},
     "output_type": "execute_result"
    }
   ],
   "source": [
    "# \"d\"\n",
    "jumbled"
   ]
  },
  {
   "cell_type": "code",
   "execution_count": 18,
   "id": "4084f185",
   "metadata": {},
   "outputs": [
    {
     "data": {
      "text/plain": [
       "['quick', 'brown', 'jumps', 'over', 'lazy']"
      ]
     },
     "execution_count": 18,
     "metadata": {},
     "output_type": "execute_result"
    }
   ],
   "source": [
    "# \"e\"\n",
    "four_or_more_characters"
   ]
  }
 ],
 "metadata": {
  "kernelspec": {
   "display_name": "Python 3 (ipykernel)",
   "language": "python",
   "name": "python3"
  },
  "language_info": {
   "codemirror_mode": {
    "name": "ipython",
    "version": 3
   },
   "file_extension": ".py",
   "mimetype": "text/x-python",
   "name": "python",
   "nbconvert_exporter": "python",
   "pygments_lexer": "ipython3",
   "version": "3.11.5"
  }
 },
 "nbformat": 4,
 "nbformat_minor": 5
}
